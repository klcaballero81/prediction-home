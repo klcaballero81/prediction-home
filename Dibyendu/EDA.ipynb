{
 "cells": [
  {
   "cell_type": "code",
   "execution_count": 5,
   "metadata": {},
   "outputs": [
    {
     "data": {
      "text/plain": [
       "'/Users/dibyendumandal/Desktop/GDSO'"
      ]
     },
     "execution_count": 5,
     "metadata": {},
     "output_type": "execute_result"
    }
   ],
   "source": [
    "pwd"
   ]
  },
  {
   "cell_type": "code",
   "execution_count": 6,
   "metadata": {},
   "outputs": [],
   "source": [
    "import pandas as pd"
   ]
  },
  {
   "cell_type": "code",
   "execution_count": 7,
   "metadata": {},
   "outputs": [],
   "source": [
    "df = pd.read_csv(\"all/application_train.csv\")"
   ]
  },
  {
   "cell_type": "code",
   "execution_count": 8,
   "metadata": {},
   "outputs": [
    {
     "data": {
      "text/html": [
       "<div>\n",
       "<style scoped>\n",
       "    .dataframe tbody tr th:only-of-type {\n",
       "        vertical-align: middle;\n",
       "    }\n",
       "\n",
       "    .dataframe tbody tr th {\n",
       "        vertical-align: top;\n",
       "    }\n",
       "\n",
       "    .dataframe thead th {\n",
       "        text-align: right;\n",
       "    }\n",
       "</style>\n",
       "<table border=\"1\" class=\"dataframe\">\n",
       "  <thead>\n",
       "    <tr style=\"text-align: right;\">\n",
       "      <th></th>\n",
       "      <th>SK_ID_CURR</th>\n",
       "      <th>TARGET</th>\n",
       "      <th>NAME_CONTRACT_TYPE</th>\n",
       "      <th>CODE_GENDER</th>\n",
       "      <th>FLAG_OWN_CAR</th>\n",
       "      <th>FLAG_OWN_REALTY</th>\n",
       "      <th>CNT_CHILDREN</th>\n",
       "      <th>AMT_INCOME_TOTAL</th>\n",
       "      <th>AMT_CREDIT</th>\n",
       "      <th>AMT_ANNUITY</th>\n",
       "      <th>...</th>\n",
       "      <th>FLAG_DOCUMENT_18</th>\n",
       "      <th>FLAG_DOCUMENT_19</th>\n",
       "      <th>FLAG_DOCUMENT_20</th>\n",
       "      <th>FLAG_DOCUMENT_21</th>\n",
       "      <th>AMT_REQ_CREDIT_BUREAU_HOUR</th>\n",
       "      <th>AMT_REQ_CREDIT_BUREAU_DAY</th>\n",
       "      <th>AMT_REQ_CREDIT_BUREAU_WEEK</th>\n",
       "      <th>AMT_REQ_CREDIT_BUREAU_MON</th>\n",
       "      <th>AMT_REQ_CREDIT_BUREAU_QRT</th>\n",
       "      <th>AMT_REQ_CREDIT_BUREAU_YEAR</th>\n",
       "    </tr>\n",
       "  </thead>\n",
       "  <tbody>\n",
       "    <tr>\n",
       "      <th>0</th>\n",
       "      <td>100002</td>\n",
       "      <td>1</td>\n",
       "      <td>Cash loans</td>\n",
       "      <td>M</td>\n",
       "      <td>N</td>\n",
       "      <td>Y</td>\n",
       "      <td>0</td>\n",
       "      <td>202500.0</td>\n",
       "      <td>406597.5</td>\n",
       "      <td>24700.5</td>\n",
       "      <td>...</td>\n",
       "      <td>0</td>\n",
       "      <td>0</td>\n",
       "      <td>0</td>\n",
       "      <td>0</td>\n",
       "      <td>0.0</td>\n",
       "      <td>0.0</td>\n",
       "      <td>0.0</td>\n",
       "      <td>0.0</td>\n",
       "      <td>0.0</td>\n",
       "      <td>1.0</td>\n",
       "    </tr>\n",
       "    <tr>\n",
       "      <th>1</th>\n",
       "      <td>100003</td>\n",
       "      <td>0</td>\n",
       "      <td>Cash loans</td>\n",
       "      <td>F</td>\n",
       "      <td>N</td>\n",
       "      <td>N</td>\n",
       "      <td>0</td>\n",
       "      <td>270000.0</td>\n",
       "      <td>1293502.5</td>\n",
       "      <td>35698.5</td>\n",
       "      <td>...</td>\n",
       "      <td>0</td>\n",
       "      <td>0</td>\n",
       "      <td>0</td>\n",
       "      <td>0</td>\n",
       "      <td>0.0</td>\n",
       "      <td>0.0</td>\n",
       "      <td>0.0</td>\n",
       "      <td>0.0</td>\n",
       "      <td>0.0</td>\n",
       "      <td>0.0</td>\n",
       "    </tr>\n",
       "    <tr>\n",
       "      <th>2</th>\n",
       "      <td>100004</td>\n",
       "      <td>0</td>\n",
       "      <td>Revolving loans</td>\n",
       "      <td>M</td>\n",
       "      <td>Y</td>\n",
       "      <td>Y</td>\n",
       "      <td>0</td>\n",
       "      <td>67500.0</td>\n",
       "      <td>135000.0</td>\n",
       "      <td>6750.0</td>\n",
       "      <td>...</td>\n",
       "      <td>0</td>\n",
       "      <td>0</td>\n",
       "      <td>0</td>\n",
       "      <td>0</td>\n",
       "      <td>0.0</td>\n",
       "      <td>0.0</td>\n",
       "      <td>0.0</td>\n",
       "      <td>0.0</td>\n",
       "      <td>0.0</td>\n",
       "      <td>0.0</td>\n",
       "    </tr>\n",
       "    <tr>\n",
       "      <th>3</th>\n",
       "      <td>100006</td>\n",
       "      <td>0</td>\n",
       "      <td>Cash loans</td>\n",
       "      <td>F</td>\n",
       "      <td>N</td>\n",
       "      <td>Y</td>\n",
       "      <td>0</td>\n",
       "      <td>135000.0</td>\n",
       "      <td>312682.5</td>\n",
       "      <td>29686.5</td>\n",
       "      <td>...</td>\n",
       "      <td>0</td>\n",
       "      <td>0</td>\n",
       "      <td>0</td>\n",
       "      <td>0</td>\n",
       "      <td>NaN</td>\n",
       "      <td>NaN</td>\n",
       "      <td>NaN</td>\n",
       "      <td>NaN</td>\n",
       "      <td>NaN</td>\n",
       "      <td>NaN</td>\n",
       "    </tr>\n",
       "    <tr>\n",
       "      <th>4</th>\n",
       "      <td>100007</td>\n",
       "      <td>0</td>\n",
       "      <td>Cash loans</td>\n",
       "      <td>M</td>\n",
       "      <td>N</td>\n",
       "      <td>Y</td>\n",
       "      <td>0</td>\n",
       "      <td>121500.0</td>\n",
       "      <td>513000.0</td>\n",
       "      <td>21865.5</td>\n",
       "      <td>...</td>\n",
       "      <td>0</td>\n",
       "      <td>0</td>\n",
       "      <td>0</td>\n",
       "      <td>0</td>\n",
       "      <td>0.0</td>\n",
       "      <td>0.0</td>\n",
       "      <td>0.0</td>\n",
       "      <td>0.0</td>\n",
       "      <td>0.0</td>\n",
       "      <td>0.0</td>\n",
       "    </tr>\n",
       "  </tbody>\n",
       "</table>\n",
       "<p>5 rows × 122 columns</p>\n",
       "</div>"
      ],
      "text/plain": [
       "   SK_ID_CURR  TARGET NAME_CONTRACT_TYPE CODE_GENDER FLAG_OWN_CAR  \\\n",
       "0      100002       1         Cash loans           M            N   \n",
       "1      100003       0         Cash loans           F            N   \n",
       "2      100004       0    Revolving loans           M            Y   \n",
       "3      100006       0         Cash loans           F            N   \n",
       "4      100007       0         Cash loans           M            N   \n",
       "\n",
       "  FLAG_OWN_REALTY  CNT_CHILDREN  AMT_INCOME_TOTAL  AMT_CREDIT  AMT_ANNUITY  \\\n",
       "0               Y             0          202500.0    406597.5      24700.5   \n",
       "1               N             0          270000.0   1293502.5      35698.5   \n",
       "2               Y             0           67500.0    135000.0       6750.0   \n",
       "3               Y             0          135000.0    312682.5      29686.5   \n",
       "4               Y             0          121500.0    513000.0      21865.5   \n",
       "\n",
       "              ...              FLAG_DOCUMENT_18 FLAG_DOCUMENT_19  \\\n",
       "0             ...                             0                0   \n",
       "1             ...                             0                0   \n",
       "2             ...                             0                0   \n",
       "3             ...                             0                0   \n",
       "4             ...                             0                0   \n",
       "\n",
       "  FLAG_DOCUMENT_20 FLAG_DOCUMENT_21 AMT_REQ_CREDIT_BUREAU_HOUR  \\\n",
       "0                0                0                        0.0   \n",
       "1                0                0                        0.0   \n",
       "2                0                0                        0.0   \n",
       "3                0                0                        NaN   \n",
       "4                0                0                        0.0   \n",
       "\n",
       "  AMT_REQ_CREDIT_BUREAU_DAY  AMT_REQ_CREDIT_BUREAU_WEEK  \\\n",
       "0                       0.0                         0.0   \n",
       "1                       0.0                         0.0   \n",
       "2                       0.0                         0.0   \n",
       "3                       NaN                         NaN   \n",
       "4                       0.0                         0.0   \n",
       "\n",
       "   AMT_REQ_CREDIT_BUREAU_MON  AMT_REQ_CREDIT_BUREAU_QRT  \\\n",
       "0                        0.0                        0.0   \n",
       "1                        0.0                        0.0   \n",
       "2                        0.0                        0.0   \n",
       "3                        NaN                        NaN   \n",
       "4                        0.0                        0.0   \n",
       "\n",
       "   AMT_REQ_CREDIT_BUREAU_YEAR  \n",
       "0                         1.0  \n",
       "1                         0.0  \n",
       "2                         0.0  \n",
       "3                         NaN  \n",
       "4                         0.0  \n",
       "\n",
       "[5 rows x 122 columns]"
      ]
     },
     "execution_count": 8,
     "metadata": {},
     "output_type": "execute_result"
    }
   ],
   "source": [
    "df.head()"
   ]
  },
  {
   "cell_type": "code",
   "execution_count": 9,
   "metadata": {},
   "outputs": [
    {
     "name": "stdout",
     "output_type": "stream",
     "text": [
      "<class 'pandas.core.frame.DataFrame'>\n",
      "RangeIndex: 307511 entries, 0 to 307510\n",
      "Columns: 122 entries, SK_ID_CURR to AMT_REQ_CREDIT_BUREAU_YEAR\n",
      "dtypes: float64(65), int64(41), object(16)\n",
      "memory usage: 286.2+ MB\n"
     ]
    }
   ],
   "source": [
    "df.info()"
   ]
  },
  {
   "cell_type": "code",
   "execution_count": 10,
   "metadata": {},
   "outputs": [
    {
     "data": {
      "text/plain": [
       "Index(['SK_ID_CURR', 'TARGET', 'NAME_CONTRACT_TYPE', 'CODE_GENDER',\n",
       "       'FLAG_OWN_CAR', 'FLAG_OWN_REALTY', 'CNT_CHILDREN', 'AMT_INCOME_TOTAL',\n",
       "       'AMT_CREDIT', 'AMT_ANNUITY',\n",
       "       ...\n",
       "       'FLAG_DOCUMENT_18', 'FLAG_DOCUMENT_19', 'FLAG_DOCUMENT_20',\n",
       "       'FLAG_DOCUMENT_21', 'AMT_REQ_CREDIT_BUREAU_HOUR',\n",
       "       'AMT_REQ_CREDIT_BUREAU_DAY', 'AMT_REQ_CREDIT_BUREAU_WEEK',\n",
       "       'AMT_REQ_CREDIT_BUREAU_MON', 'AMT_REQ_CREDIT_BUREAU_QRT',\n",
       "       'AMT_REQ_CREDIT_BUREAU_YEAR'],\n",
       "      dtype='object', length=122)"
      ]
     },
     "execution_count": 10,
     "metadata": {},
     "output_type": "execute_result"
    }
   ],
   "source": [
    "df.columns"
   ]
  },
  {
   "cell_type": "code",
   "execution_count": 11,
   "metadata": {},
   "outputs": [
    {
     "name": "stdout",
     "output_type": "stream",
     "text": [
      "<class 'pandas.core.frame.DataFrame'>\n",
      "RangeIndex: 307511 entries, 0 to 307510\n",
      "Data columns (total 50 columns):\n",
      "SK_ID_CURR                     307511 non-null int64\n",
      "TARGET                         307511 non-null int64\n",
      "NAME_CONTRACT_TYPE             307511 non-null object\n",
      "CODE_GENDER                    307511 non-null object\n",
      "FLAG_OWN_CAR                   307511 non-null object\n",
      "FLAG_OWN_REALTY                307511 non-null object\n",
      "CNT_CHILDREN                   307511 non-null int64\n",
      "AMT_INCOME_TOTAL               307511 non-null float64\n",
      "AMT_CREDIT                     307511 non-null float64\n",
      "AMT_ANNUITY                    307499 non-null float64\n",
      "AMT_GOODS_PRICE                307233 non-null float64\n",
      "NAME_TYPE_SUITE                306219 non-null object\n",
      "NAME_INCOME_TYPE               307511 non-null object\n",
      "NAME_EDUCATION_TYPE            307511 non-null object\n",
      "NAME_FAMILY_STATUS             307511 non-null object\n",
      "NAME_HOUSING_TYPE              307511 non-null object\n",
      "REGION_POPULATION_RELATIVE     307511 non-null float64\n",
      "DAYS_BIRTH                     307511 non-null int64\n",
      "DAYS_EMPLOYED                  307511 non-null int64\n",
      "DAYS_REGISTRATION              307511 non-null float64\n",
      "DAYS_ID_PUBLISH                307511 non-null int64\n",
      "OWN_CAR_AGE                    104582 non-null float64\n",
      "FLAG_MOBIL                     307511 non-null int64\n",
      "FLAG_EMP_PHONE                 307511 non-null int64\n",
      "FLAG_WORK_PHONE                307511 non-null int64\n",
      "FLAG_CONT_MOBILE               307511 non-null int64\n",
      "FLAG_PHONE                     307511 non-null int64\n",
      "FLAG_EMAIL                     307511 non-null int64\n",
      "OCCUPATION_TYPE                211120 non-null object\n",
      "CNT_FAM_MEMBERS                307509 non-null float64\n",
      "REGION_RATING_CLIENT           307511 non-null int64\n",
      "REGION_RATING_CLIENT_W_CITY    307511 non-null int64\n",
      "WEEKDAY_APPR_PROCESS_START     307511 non-null object\n",
      "HOUR_APPR_PROCESS_START        307511 non-null int64\n",
      "REG_REGION_NOT_LIVE_REGION     307511 non-null int64\n",
      "REG_REGION_NOT_WORK_REGION     307511 non-null int64\n",
      "LIVE_REGION_NOT_WORK_REGION    307511 non-null int64\n",
      "REG_CITY_NOT_LIVE_CITY         307511 non-null int64\n",
      "REG_CITY_NOT_WORK_CITY         307511 non-null int64\n",
      "LIVE_CITY_NOT_WORK_CITY        307511 non-null int64\n",
      "ORGANIZATION_TYPE              307511 non-null object\n",
      "EXT_SOURCE_1                   134133 non-null float64\n",
      "EXT_SOURCE_2                   306851 non-null float64\n",
      "EXT_SOURCE_3                   246546 non-null float64\n",
      "APARTMENTS_AVG                 151450 non-null float64\n",
      "BASEMENTAREA_AVG               127568 non-null float64\n",
      "YEARS_BEGINEXPLUATATION_AVG    157504 non-null float64\n",
      "YEARS_BUILD_AVG                103023 non-null float64\n",
      "COMMONAREA_AVG                 92646 non-null float64\n",
      "ELEVATORS_AVG                  143620 non-null float64\n",
      "dtypes: float64(17), int64(21), object(12)\n",
      "memory usage: 117.3+ MB\n"
     ]
    }
   ],
   "source": [
    "df.iloc[:, :50].info()"
   ]
  },
  {
   "cell_type": "code",
   "execution_count": 132,
   "metadata": {},
   "outputs": [
    {
     "data": {
      "text/plain": [
       "(0.019187133596270067, 0.009307784396531184)"
      ]
     },
     "execution_count": 132,
     "metadata": {},
     "output_type": "execute_result"
    }
   ],
   "source": [
    "df['TARGET'].corr(df['CNT_CHILDREN']),df['TARGET'].corr(df['CNT_FAM_MEMBERS'])"
   ]
  },
  {
   "cell_type": "code",
   "execution_count": 151,
   "metadata": {
    "scrolled": true
   },
   "outputs": [
    {
     "data": {
      "image/png": "[encoded data removed]",
      "text/plain": [
       "<matplotlib.figure.Figure at 0x11e583080>"
      ]
     },
     "metadata": {},
     "output_type": "display_data"
    }
   ],
   "source": [
    "plt.hist(df[df['TARGET'] == 0]['CNT_CHILDREN'], bins=20, alpha=0.6, normed=True, label = \"Target = 0\")\n",
    "plt.hist(df[df['TARGET'] == 1]['CNT_CHILDREN'], bins=20, alpha=0.6, normed=True, label = \"Target = 1\")\n",
    "plt.xlim(0,5)\n",
    "plt.legend();"
   ]
  },
  {
   "cell_type": "code",
   "execution_count": 157,
   "metadata": {},
   "outputs": [
    {
     "data": {
      "text/plain": [
       "0.014568132412445587"
      ]
     },
     "execution_count": 157,
     "metadata": {},
     "output_type": "execute_result"
    }
   ],
   "source": [
    "df[df['TARGET'] == 0]['EXT_SOURCE_1'].min()"
   ]
  },
  {
   "cell_type": "code",
   "execution_count": 154,
   "metadata": {},
   "outputs": [
    {
     "name": "stderr",
     "output_type": "stream",
     "text": [
      "/Users/dibyendumandal/anaconda3/lib/python3.6/site-packages/numpy/core/_methods.py:29: RuntimeWarning: invalid value encountered in reduce\n",
      "  return umr_minimum(a, axis, None, out, keepdims)\n",
      "/Users/dibyendumandal/anaconda3/lib/python3.6/site-packages/numpy/core/_methods.py:26: RuntimeWarning: invalid value encountered in reduce\n",
      "  return umr_maximum(a, axis, None, out, keepdims)\n"
     ]
    },
    {
     "ename": "ValueError",
     "evalue": "max must be larger than min in range parameter.",
     "output_type": "error",
     "traceback": [
      "\u001b[0;31m---------------------------------------------------------------------------\u001b[0m",
      "\u001b[0;31mValueError\u001b[0m                                Traceback (most recent call last)",
      "\u001b[0;32m<ipython-input-154-b67cf6ee6697>\u001b[0m in \u001b[0;36m<module>\u001b[0;34m()\u001b[0m\n\u001b[0;32m----> 1\u001b[0;31m \u001b[0mplt\u001b[0m\u001b[0;34m.\u001b[0m\u001b[0mhist\u001b[0m\u001b[0;34m(\u001b[0m\u001b[0mdf\u001b[0m\u001b[0;34m[\u001b[0m\u001b[0mdf\u001b[0m\u001b[0;34m[\u001b[0m\u001b[0;34m'TARGET'\u001b[0m\u001b[0;34m]\u001b[0m \u001b[0;34m==\u001b[0m \u001b[0;36m0\u001b[0m\u001b[0;34m]\u001b[0m\u001b[0;34m[\u001b[0m\u001b[0;34m'EXT_SOURCE_1'\u001b[0m\u001b[0;34m]\u001b[0m\u001b[0;34m,\u001b[0m \u001b[0mbins\u001b[0m\u001b[0;34m=\u001b[0m\u001b[0;36m20\u001b[0m\u001b[0;34m,\u001b[0m \u001b[0malpha\u001b[0m\u001b[0;34m=\u001b[0m\u001b[0;36m0.6\u001b[0m\u001b[0;34m,\u001b[0m \u001b[0mlabel\u001b[0m \u001b[0;34m=\u001b[0m \u001b[0;34m\"Target = 0\"\u001b[0m\u001b[0;34m)\u001b[0m\u001b[0;34m\u001b[0m\u001b[0m\n\u001b[0m\u001b[1;32m      2\u001b[0m \u001b[0mplt\u001b[0m\u001b[0;34m.\u001b[0m\u001b[0mhist\u001b[0m\u001b[0;34m(\u001b[0m\u001b[0mdf\u001b[0m\u001b[0;34m[\u001b[0m\u001b[0mdf\u001b[0m\u001b[0;34m[\u001b[0m\u001b[0;34m'TARGET'\u001b[0m\u001b[0;34m]\u001b[0m \u001b[0;34m==\u001b[0m \u001b[0;36m1\u001b[0m\u001b[0;34m]\u001b[0m\u001b[0;34m[\u001b[0m\u001b[0;34m'EXT_SOURCE_1'\u001b[0m\u001b[0;34m]\u001b[0m\u001b[0;34m,\u001b[0m \u001b[0mbins\u001b[0m\u001b[0;34m=\u001b[0m\u001b[0;36m20\u001b[0m\u001b[0;34m,\u001b[0m \u001b[0malpha\u001b[0m\u001b[0;34m=\u001b[0m\u001b[0;36m0.6\u001b[0m\u001b[0;34m,\u001b[0m \u001b[0mlabel\u001b[0m \u001b[0;34m=\u001b[0m \u001b[0;34m\"Target = 1\"\u001b[0m\u001b[0;34m)\u001b[0m\u001b[0;34m\u001b[0m\u001b[0m\n\u001b[1;32m      3\u001b[0m \u001b[0mplt\u001b[0m\u001b[0;34m.\u001b[0m\u001b[0mxlim\u001b[0m\u001b[0;34m(\u001b[0m\u001b[0;36m0\u001b[0m\u001b[0;34m,\u001b[0m\u001b[0;36m5\u001b[0m\u001b[0;34m)\u001b[0m\u001b[0;34m\u001b[0m\u001b[0m\n\u001b[1;32m      4\u001b[0m \u001b[0mplt\u001b[0m\u001b[0;34m.\u001b[0m\u001b[0mlegend\u001b[0m\u001b[0;34m(\u001b[0m\u001b[0;34m)\u001b[0m\u001b[0;34m;\u001b[0m\u001b[0;34m\u001b[0m\u001b[0m\n",
      "\u001b[0;32m~/anaconda3/lib/python3.6/site-packages/matplotlib/pyplot.py\u001b[0m in \u001b[0;36mhist\u001b[0;34m(x, bins, range, density, weights, cumulative, bottom, histtype, align, orientation, rwidth, log, color, label, stacked, normed, hold, data, **kwargs)\u001b[0m\n\u001b[1;32m   3023\u001b[0m                       \u001b[0mhisttype\u001b[0m\u001b[0;34m=\u001b[0m\u001b[0mhisttype\u001b[0m\u001b[0;34m,\u001b[0m \u001b[0malign\u001b[0m\u001b[0;34m=\u001b[0m\u001b[0malign\u001b[0m\u001b[0;34m,\u001b[0m \u001b[0morientation\u001b[0m\u001b[0;34m=\u001b[0m\u001b[0morientation\u001b[0m\u001b[0;34m,\u001b[0m\u001b[0;34m\u001b[0m\u001b[0m\n\u001b[1;32m   3024\u001b[0m                       \u001b[0mrwidth\u001b[0m\u001b[0;34m=\u001b[0m\u001b[0mrwidth\u001b[0m\u001b[0;34m,\u001b[0m \u001b[0mlog\u001b[0m\u001b[0;34m=\u001b[0m\u001b[0mlog\u001b[0m\u001b[0;34m,\u001b[0m \u001b[0mcolor\u001b[0m\u001b[0;34m=\u001b[0m\u001b[0mcolor\u001b[0m\u001b[0;34m,\u001b[0m \u001b[0mlabel\u001b[0m\u001b[0;34m=\u001b[0m\u001b[0mlabel\u001b[0m\u001b[0;34m,\u001b[0m\u001b[0;34m\u001b[0m\u001b[0m\n\u001b[0;32m-> 3025\u001b[0;31m                       stacked=stacked, normed=normed, data=data, **kwargs)\n\u001b[0m\u001b[1;32m   3026\u001b[0m     \u001b[0;32mfinally\u001b[0m\u001b[0;34m:\u001b[0m\u001b[0;34m\u001b[0m\u001b[0m\n\u001b[1;32m   3027\u001b[0m         \u001b[0max\u001b[0m\u001b[0;34m.\u001b[0m\u001b[0m_hold\u001b[0m \u001b[0;34m=\u001b[0m \u001b[0mwashold\u001b[0m\u001b[0;34m\u001b[0m\u001b[0m\n",
      "\u001b[0;32m~/anaconda3/lib/python3.6/site-packages/matplotlib/__init__.py\u001b[0m in \u001b[0;36minner\u001b[0;34m(ax, *args, **kwargs)\u001b[0m\n\u001b[1;32m   1715\u001b[0m                     warnings.warn(msg % (label_namer, func.__name__),\n\u001b[1;32m   1716\u001b[0m                                   RuntimeWarning, stacklevel=2)\n\u001b[0;32m-> 1717\u001b[0;31m             \u001b[0;32mreturn\u001b[0m \u001b[0mfunc\u001b[0m\u001b[0;34m(\u001b[0m\u001b[0max\u001b[0m\u001b[0;34m,\u001b[0m \u001b[0;34m*\u001b[0m\u001b[0margs\u001b[0m\u001b[0;34m,\u001b[0m \u001b[0;34m**\u001b[0m\u001b[0mkwargs\u001b[0m\u001b[0;34m)\u001b[0m\u001b[0;34m\u001b[0m\u001b[0m\n\u001b[0m\u001b[1;32m   1718\u001b[0m         \u001b[0mpre_doc\u001b[0m \u001b[0;34m=\u001b[0m \u001b[0minner\u001b[0m\u001b[0;34m.\u001b[0m\u001b[0m__doc__\u001b[0m\u001b[0;34m\u001b[0m\u001b[0m\n\u001b[1;32m   1719\u001b[0m         \u001b[0;32mif\u001b[0m \u001b[0mpre_doc\u001b[0m \u001b[0;32mis\u001b[0m \u001b[0;32mNone\u001b[0m\u001b[0;34m:\u001b[0m\u001b[0;34m\u001b[0m\u001b[0m\n",
      "\u001b[0;32m~/anaconda3/lib/python3.6/site-packages/matplotlib/axes/_axes.py\u001b[0m in \u001b[0;36mhist\u001b[0;34m(***failed resolving arguments***)\u001b[0m\n\u001b[1;32m   6163\u001b[0m             \u001b[0;31m# this will automatically overwrite bins,\u001b[0m\u001b[0;34m\u001b[0m\u001b[0;34m\u001b[0m\u001b[0m\n\u001b[1;32m   6164\u001b[0m             \u001b[0;31m# so that each histogram uses the same bins\u001b[0m\u001b[0;34m\u001b[0m\u001b[0;34m\u001b[0m\u001b[0m\n\u001b[0;32m-> 6165\u001b[0;31m             \u001b[0mm\u001b[0m\u001b[0;34m,\u001b[0m \u001b[0mbins\u001b[0m \u001b[0;34m=\u001b[0m \u001b[0mnp\u001b[0m\u001b[0;34m.\u001b[0m\u001b[0mhistogram\u001b[0m\u001b[0;34m(\u001b[0m\u001b[0mx\u001b[0m\u001b[0;34m[\u001b[0m\u001b[0mi\u001b[0m\u001b[0;34m]\u001b[0m\u001b[0;34m,\u001b[0m \u001b[0mbins\u001b[0m\u001b[0;34m,\u001b[0m \u001b[0mweights\u001b[0m\u001b[0;34m=\u001b[0m\u001b[0mw\u001b[0m\u001b[0;34m[\u001b[0m\u001b[0mi\u001b[0m\u001b[0;34m]\u001b[0m\u001b[0;34m,\u001b[0m \u001b[0;34m**\u001b[0m\u001b[0mhist_kwargs\u001b[0m\u001b[0;34m)\u001b[0m\u001b[0;34m\u001b[0m\u001b[0m\n\u001b[0m\u001b[1;32m   6166\u001b[0m             \u001b[0mm\u001b[0m \u001b[0;34m=\u001b[0m \u001b[0mm\u001b[0m\u001b[0;34m.\u001b[0m\u001b[0mastype\u001b[0m\u001b[0;34m(\u001b[0m\u001b[0mfloat\u001b[0m\u001b[0;34m)\u001b[0m  \u001b[0;31m# causes problems later if it's an int\u001b[0m\u001b[0;34m\u001b[0m\u001b[0m\n\u001b[1;32m   6167\u001b[0m             \u001b[0;32mif\u001b[0m \u001b[0mmlast\u001b[0m \u001b[0;32mis\u001b[0m \u001b[0;32mNone\u001b[0m\u001b[0;34m:\u001b[0m\u001b[0;34m\u001b[0m\u001b[0m\n",
      "\u001b[0;32m~/anaconda3/lib/python3.6/site-packages/numpy/lib/function_base.py\u001b[0m in \u001b[0;36mhistogram\u001b[0;34m(a, bins, range, normed, weights, density)\u001b[0m\n\u001b[1;32m    665\u001b[0m     \u001b[0;32mif\u001b[0m \u001b[0mfirst_edge\u001b[0m \u001b[0;34m>\u001b[0m \u001b[0mlast_edge\u001b[0m\u001b[0;34m:\u001b[0m\u001b[0;34m\u001b[0m\u001b[0m\n\u001b[1;32m    666\u001b[0m         raise ValueError(\n\u001b[0;32m--> 667\u001b[0;31m             'max must be larger than min in range parameter.')\n\u001b[0m\u001b[1;32m    668\u001b[0m     \u001b[0;32mif\u001b[0m \u001b[0;32mnot\u001b[0m \u001b[0mnp\u001b[0m\u001b[0;34m.\u001b[0m\u001b[0mall\u001b[0m\u001b[0;34m(\u001b[0m\u001b[0mnp\u001b[0m\u001b[0;34m.\u001b[0m\u001b[0misfinite\u001b[0m\u001b[0;34m(\u001b[0m\u001b[0;34m[\u001b[0m\u001b[0mfirst_edge\u001b[0m\u001b[0;34m,\u001b[0m \u001b[0mlast_edge\u001b[0m\u001b[0;34m]\u001b[0m\u001b[0;34m)\u001b[0m\u001b[0;34m)\u001b[0m\u001b[0;34m:\u001b[0m\u001b[0;34m\u001b[0m\u001b[0m\n\u001b[1;32m    669\u001b[0m         raise ValueError(\n",
      "\u001b[0;31mValueError\u001b[0m: max must be larger than min in range parameter."
     ]
    },
    {
     "data": {
      "image/png": "[encoded data removed]",
      "text/plain": [
       "<matplotlib.figure.Figure at 0x12470be10>"
      ]
     },
     "metadata": {},
     "output_type": "display_data"
    }
   ],
   "source": [
    "plt.hist(df[df['TARGET'] == 0]['EXT_SOURCE_1'], bins=20, alpha=0.6, label = \"Target = 0\")\n",
    "plt.hist(df[df['TARGET'] == 1]['EXT_SOURCE_1'], bins=20, alpha=0.6, label = \"Target = 1\")\n",
    "plt.xlim(0,5)\n",
    "plt.legend();"
   ]
  },
  {
   "cell_type": "code",
   "execution_count": 12,
   "metadata": {},
   "outputs": [
    {
     "name": "stdout",
     "output_type": "stream",
     "text": [
      "<class 'pandas.core.frame.DataFrame'>\n",
      "RangeIndex: 307511 entries, 0 to 307510\n",
      "Data columns (total 72 columns):\n",
      "ENTRANCES_AVG                   152683 non-null float64\n",
      "FLOORSMAX_AVG                   154491 non-null float64\n",
      "FLOORSMIN_AVG                   98869 non-null float64\n",
      "LANDAREA_AVG                    124921 non-null float64\n",
      "LIVINGAPARTMENTS_AVG            97312 non-null float64\n",
      "LIVINGAREA_AVG                  153161 non-null float64\n",
      "NONLIVINGAPARTMENTS_AVG         93997 non-null float64\n",
      "NONLIVINGAREA_AVG               137829 non-null float64\n",
      "APARTMENTS_MODE                 151450 non-null float64\n",
      "BASEMENTAREA_MODE               127568 non-null float64\n",
      "YEARS_BEGINEXPLUATATION_MODE    157504 non-null float64\n",
      "YEARS_BUILD_MODE                103023 non-null float64\n",
      "COMMONAREA_MODE                 92646 non-null float64\n",
      "ELEVATORS_MODE                  143620 non-null float64\n",
      "ENTRANCES_MODE                  152683 non-null float64\n",
      "FLOORSMAX_MODE                  154491 non-null float64\n",
      "FLOORSMIN_MODE                  98869 non-null float64\n",
      "LANDAREA_MODE                   124921 non-null float64\n",
      "LIVINGAPARTMENTS_MODE           97312 non-null float64\n",
      "LIVINGAREA_MODE                 153161 non-null float64\n",
      "NONLIVINGAPARTMENTS_MODE        93997 non-null float64\n",
      "NONLIVINGAREA_MODE              137829 non-null float64\n",
      "APARTMENTS_MEDI                 151450 non-null float64\n",
      "BASEMENTAREA_MEDI               127568 non-null float64\n",
      "YEARS_BEGINEXPLUATATION_MEDI    157504 non-null float64\n",
      "YEARS_BUILD_MEDI                103023 non-null float64\n",
      "COMMONAREA_MEDI                 92646 non-null float64\n",
      "ELEVATORS_MEDI                  143620 non-null float64\n",
      "ENTRANCES_MEDI                  152683 non-null float64\n",
      "FLOORSMAX_MEDI                  154491 non-null float64\n",
      "FLOORSMIN_MEDI                  98869 non-null float64\n",
      "LANDAREA_MEDI                   124921 non-null float64\n",
      "LIVINGAPARTMENTS_MEDI           97312 non-null float64\n",
      "LIVINGAREA_MEDI                 153161 non-null float64\n",
      "NONLIVINGAPARTMENTS_MEDI        93997 non-null float64\n",
      "NONLIVINGAREA_MEDI              137829 non-null float64\n",
      "FONDKAPREMONT_MODE              97216 non-null object\n",
      "HOUSETYPE_MODE                  153214 non-null object\n",
      "TOTALAREA_MODE                  159080 non-null float64\n",
      "WALLSMATERIAL_MODE              151170 non-null object\n",
      "EMERGENCYSTATE_MODE             161756 non-null object\n",
      "OBS_30_CNT_SOCIAL_CIRCLE        306490 non-null float64\n",
      "DEF_30_CNT_SOCIAL_CIRCLE        306490 non-null float64\n",
      "OBS_60_CNT_SOCIAL_CIRCLE        306490 non-null float64\n",
      "DEF_60_CNT_SOCIAL_CIRCLE        306490 non-null float64\n",
      "DAYS_LAST_PHONE_CHANGE          307510 non-null float64\n",
      "FLAG_DOCUMENT_2                 307511 non-null int64\n",
      "FLAG_DOCUMENT_3                 307511 non-null int64\n",
      "FLAG_DOCUMENT_4                 307511 non-null int64\n",
      "FLAG_DOCUMENT_5                 307511 non-null int64\n",
      "FLAG_DOCUMENT_6                 307511 non-null int64\n",
      "FLAG_DOCUMENT_7                 307511 non-null int64\n",
      "FLAG_DOCUMENT_8                 307511 non-null int64\n",
      "FLAG_DOCUMENT_9                 307511 non-null int64\n",
      "FLAG_DOCUMENT_10                307511 non-null int64\n",
      "FLAG_DOCUMENT_11                307511 non-null int64\n",
      "FLAG_DOCUMENT_12                307511 non-null int64\n",
      "FLAG_DOCUMENT_13                307511 non-null int64\n",
      "FLAG_DOCUMENT_14                307511 non-null int64\n",
      "FLAG_DOCUMENT_15                307511 non-null int64\n",
      "FLAG_DOCUMENT_16                307511 non-null int64\n",
      "FLAG_DOCUMENT_17                307511 non-null int64\n",
      "FLAG_DOCUMENT_18                307511 non-null int64\n",
      "FLAG_DOCUMENT_19                307511 non-null int64\n",
      "FLAG_DOCUMENT_20                307511 non-null int64\n",
      "FLAG_DOCUMENT_21                307511 non-null int64\n",
      "AMT_REQ_CREDIT_BUREAU_HOUR      265992 non-null float64\n",
      "AMT_REQ_CREDIT_BUREAU_DAY       265992 non-null float64\n",
      "AMT_REQ_CREDIT_BUREAU_WEEK      265992 non-null float64\n",
      "AMT_REQ_CREDIT_BUREAU_MON       265992 non-null float64\n",
      "AMT_REQ_CREDIT_BUREAU_QRT       265992 non-null float64\n",
      "AMT_REQ_CREDIT_BUREAU_YEAR      265992 non-null float64\n",
      "dtypes: float64(48), int64(20), object(4)\n",
      "memory usage: 168.9+ MB\n"
     ]
    }
   ],
   "source": [
    "df.iloc[:, 50:].info()"
   ]
  },
  {
   "cell_type": "code",
   "execution_count": 13,
   "metadata": {},
   "outputs": [
    {
     "data": {
      "text/plain": [
       "{'AMT_ANNUITY': 12,\n",
       " 'AMT_GOODS_PRICE': 278,\n",
       " 'AMT_REQ_CREDIT_BUREAU_DAY': 41519,\n",
       " 'AMT_REQ_CREDIT_BUREAU_HOUR': 41519,\n",
       " 'AMT_REQ_CREDIT_BUREAU_MON': 41519,\n",
       " 'AMT_REQ_CREDIT_BUREAU_QRT': 41519,\n",
       " 'AMT_REQ_CREDIT_BUREAU_WEEK': 41519,\n",
       " 'AMT_REQ_CREDIT_BUREAU_YEAR': 41519,\n",
       " 'APARTMENTS_AVG': 156061,\n",
       " 'APARTMENTS_MEDI': 156061,\n",
       " 'APARTMENTS_MODE': 156061,\n",
       " 'BASEMENTAREA_AVG': 179943,\n",
       " 'BASEMENTAREA_MEDI': 179943,\n",
       " 'BASEMENTAREA_MODE': 179943,\n",
       " 'CNT_FAM_MEMBERS': 2,\n",
       " 'COMMONAREA_AVG': 214865,\n",
       " 'COMMONAREA_MEDI': 214865,\n",
       " 'COMMONAREA_MODE': 214865,\n",
       " 'DAYS_LAST_PHONE_CHANGE': 1,\n",
       " 'DEF_30_CNT_SOCIAL_CIRCLE': 1021,\n",
       " 'DEF_60_CNT_SOCIAL_CIRCLE': 1021,\n",
       " 'ELEVATORS_AVG': 163891,\n",
       " 'ELEVATORS_MEDI': 163891,\n",
       " 'ELEVATORS_MODE': 163891,\n",
       " 'EMERGENCYSTATE_MODE': 145755,\n",
       " 'ENTRANCES_AVG': 154828,\n",
       " 'ENTRANCES_MEDI': 154828,\n",
       " 'ENTRANCES_MODE': 154828,\n",
       " 'EXT_SOURCE_1': 173378,\n",
       " 'EXT_SOURCE_2': 660,\n",
       " 'EXT_SOURCE_3': 60965,\n",
       " 'FLOORSMAX_AVG': 153020,\n",
       " 'FLOORSMAX_MEDI': 153020,\n",
       " 'FLOORSMAX_MODE': 153020,\n",
       " 'FLOORSMIN_AVG': 208642,\n",
       " 'FLOORSMIN_MEDI': 208642,\n",
       " 'FLOORSMIN_MODE': 208642,\n",
       " 'FONDKAPREMONT_MODE': 210295,\n",
       " 'HOUSETYPE_MODE': 154297,\n",
       " 'LANDAREA_AVG': 182590,\n",
       " 'LANDAREA_MEDI': 182590,\n",
       " 'LANDAREA_MODE': 182590,\n",
       " 'LIVINGAPARTMENTS_AVG': 210199,\n",
       " 'LIVINGAPARTMENTS_MEDI': 210199,\n",
       " 'LIVINGAPARTMENTS_MODE': 210199,\n",
       " 'LIVINGAREA_AVG': 154350,\n",
       " 'LIVINGAREA_MEDI': 154350,\n",
       " 'LIVINGAREA_MODE': 154350,\n",
       " 'NAME_TYPE_SUITE': 1292,\n",
       " 'NONLIVINGAPARTMENTS_AVG': 213514,\n",
       " 'NONLIVINGAPARTMENTS_MEDI': 213514,\n",
       " 'NONLIVINGAPARTMENTS_MODE': 213514,\n",
       " 'NONLIVINGAREA_AVG': 169682,\n",
       " 'NONLIVINGAREA_MEDI': 169682,\n",
       " 'NONLIVINGAREA_MODE': 169682,\n",
       " 'OBS_30_CNT_SOCIAL_CIRCLE': 1021,\n",
       " 'OBS_60_CNT_SOCIAL_CIRCLE': 1021,\n",
       " 'OCCUPATION_TYPE': 96391,\n",
       " 'OWN_CAR_AGE': 202929,\n",
       " 'TOTALAREA_MODE': 148431,\n",
       " 'WALLSMATERIAL_MODE': 156341,\n",
       " 'YEARS_BEGINEXPLUATATION_AVG': 150007,\n",
       " 'YEARS_BEGINEXPLUATATION_MEDI': 150007,\n",
       " 'YEARS_BEGINEXPLUATATION_MODE': 150007,\n",
       " 'YEARS_BUILD_AVG': 204488,\n",
       " 'YEARS_BUILD_MEDI': 204488,\n",
       " 'YEARS_BUILD_MODE': 204488}"
      ]
     },
     "execution_count": 13,
     "metadata": {},
     "output_type": "execute_result"
    }
   ],
   "source": [
    "columns_w_miss = {column:sum(df[column].isnull()) \n",
    "                  for column in df.columns\n",
    "                  if sum(df[column].isnull())}\n",
    "columns_w_miss"
   ]
  },
  {
   "cell_type": "code",
   "execution_count": 14,
   "metadata": {},
   "outputs": [
    {
     "data": {
      "text/plain": [
       "67"
      ]
     },
     "execution_count": 14,
     "metadata": {},
     "output_type": "execute_result"
    }
   ],
   "source": [
    "len(columns_w_miss)"
   ]
  },
  {
   "cell_type": "code",
   "execution_count": 15,
   "metadata": {},
   "outputs": [
    {
     "data": {
      "image/png": "[encoded data removed]",
      "text/plain": [
       "<matplotlib.figure.Figure at 0x1107bbf98>"
      ]
     },
     "metadata": {},
     "output_type": "display_data"
    }
   ],
   "source": [
    "import matplotlib.pyplot as plt\n",
    "% matplotlib inline\n",
    "df.TARGET.hist();"
   ]
  },
  {
   "cell_type": "code",
   "execution_count": 16,
   "metadata": {},
   "outputs": [
    {
     "data": {
      "text/plain": [
       "0.08072881945686496"
      ]
     },
     "execution_count": 16,
     "metadata": {},
     "output_type": "execute_result"
    }
   ],
   "source": [
    "df.TARGET.mean()"
   ]
  },
  {
   "cell_type": "code",
   "execution_count": 17,
   "metadata": {},
   "outputs": [
    {
     "name": "stdout",
     "output_type": "stream",
     "text": [
      "Original Matrix Shape: (307511, 122)\n",
      "Complete-rows shape: (8602, 122)\n"
     ]
    }
   ],
   "source": [
    "#Selecting for records where there is complete data, what are the dimensions?\n",
    "\n",
    "print(\"Original Matrix Shape:\", df.shape)\n",
    "\n",
    "null_rows = df.isnull().any(axis=1) # Rows where any value is null\n",
    "complete_rows = ~null_rows  # Invert the boolean series\n",
    "df_complete = df.loc[complete_rows]\n",
    "\n",
    "print(\"Complete-rows shape:\", df_complete.shape)"
   ]
  },
  {
   "cell_type": "code",
   "execution_count": 18,
   "metadata": {},
   "outputs": [
    {
     "data": {
      "text/plain": [
       "float64    65\n",
       "int64      41\n",
       "object     16\n",
       "dtype: int64"
      ]
     },
     "execution_count": 18,
     "metadata": {},
     "output_type": "execute_result"
    }
   ],
   "source": [
    "df.dtypes.value_counts()"
   ]
  },
  {
   "cell_type": "code",
   "execution_count": 19,
   "metadata": {},
   "outputs": [],
   "source": [
    "cols_float = [col for col in df.columns if df[col].dtype=='float64']\n",
    "cols_int = [col for col in df.columns if df[col].dtype=='int64']\n",
    "cols_str = [col for col in df.columns if df[col].dtype=='object']"
   ]
  },
  {
   "cell_type": "code",
   "execution_count": 20,
   "metadata": {},
   "outputs": [
    {
     "data": {
      "text/html": [
       "<div>\n",
       "<style scoped>\n",
       "    .dataframe tbody tr th:only-of-type {\n",
       "        vertical-align: middle;\n",
       "    }\n",
       "\n",
       "    .dataframe tbody tr th {\n",
       "        vertical-align: top;\n",
       "    }\n",
       "\n",
       "    .dataframe thead th {\n",
       "        text-align: right;\n",
       "    }\n",
       "</style>\n",
       "<table border=\"1\" class=\"dataframe\">\n",
       "  <thead>\n",
       "    <tr style=\"text-align: right;\">\n",
       "      <th></th>\n",
       "      <th>AMT_INCOME_TOTAL</th>\n",
       "      <th>AMT_CREDIT</th>\n",
       "      <th>AMT_ANNUITY</th>\n",
       "      <th>AMT_GOODS_PRICE</th>\n",
       "      <th>REGION_POPULATION_RELATIVE</th>\n",
       "    </tr>\n",
       "  </thead>\n",
       "  <tbody>\n",
       "    <tr>\n",
       "      <th>count</th>\n",
       "      <td>3.075110e+05</td>\n",
       "      <td>3.075110e+05</td>\n",
       "      <td>307499.000000</td>\n",
       "      <td>3.072330e+05</td>\n",
       "      <td>307511.000000</td>\n",
       "    </tr>\n",
       "    <tr>\n",
       "      <th>mean</th>\n",
       "      <td>1.687979e+05</td>\n",
       "      <td>5.990260e+05</td>\n",
       "      <td>27108.573909</td>\n",
       "      <td>5.383962e+05</td>\n",
       "      <td>0.020868</td>\n",
       "    </tr>\n",
       "    <tr>\n",
       "      <th>std</th>\n",
       "      <td>2.371231e+05</td>\n",
       "      <td>4.024908e+05</td>\n",
       "      <td>14493.737315</td>\n",
       "      <td>3.694465e+05</td>\n",
       "      <td>0.013831</td>\n",
       "    </tr>\n",
       "    <tr>\n",
       "      <th>min</th>\n",
       "      <td>2.565000e+04</td>\n",
       "      <td>4.500000e+04</td>\n",
       "      <td>1615.500000</td>\n",
       "      <td>4.050000e+04</td>\n",
       "      <td>0.000290</td>\n",
       "    </tr>\n",
       "    <tr>\n",
       "      <th>25%</th>\n",
       "      <td>1.125000e+05</td>\n",
       "      <td>2.700000e+05</td>\n",
       "      <td>16524.000000</td>\n",
       "      <td>2.385000e+05</td>\n",
       "      <td>0.010006</td>\n",
       "    </tr>\n",
       "    <tr>\n",
       "      <th>50%</th>\n",
       "      <td>1.471500e+05</td>\n",
       "      <td>5.135310e+05</td>\n",
       "      <td>24903.000000</td>\n",
       "      <td>4.500000e+05</td>\n",
       "      <td>0.018850</td>\n",
       "    </tr>\n",
       "    <tr>\n",
       "      <th>75%</th>\n",
       "      <td>2.025000e+05</td>\n",
       "      <td>8.086500e+05</td>\n",
       "      <td>34596.000000</td>\n",
       "      <td>6.795000e+05</td>\n",
       "      <td>0.028663</td>\n",
       "    </tr>\n",
       "    <tr>\n",
       "      <th>max</th>\n",
       "      <td>1.170000e+08</td>\n",
       "      <td>4.050000e+06</td>\n",
       "      <td>258025.500000</td>\n",
       "      <td>4.050000e+06</td>\n",
       "      <td>0.072508</td>\n",
       "    </tr>\n",
       "  </tbody>\n",
       "</table>\n",
       "</div>"
      ],
      "text/plain": [
       "       AMT_INCOME_TOTAL    AMT_CREDIT    AMT_ANNUITY  AMT_GOODS_PRICE  \\\n",
       "count      3.075110e+05  3.075110e+05  307499.000000     3.072330e+05   \n",
       "mean       1.687979e+05  5.990260e+05   27108.573909     5.383962e+05   \n",
       "std        2.371231e+05  4.024908e+05   14493.737315     3.694465e+05   \n",
       "min        2.565000e+04  4.500000e+04    1615.500000     4.050000e+04   \n",
       "25%        1.125000e+05  2.700000e+05   16524.000000     2.385000e+05   \n",
       "50%        1.471500e+05  5.135310e+05   24903.000000     4.500000e+05   \n",
       "75%        2.025000e+05  8.086500e+05   34596.000000     6.795000e+05   \n",
       "max        1.170000e+08  4.050000e+06  258025.500000     4.050000e+06   \n",
       "\n",
       "       REGION_POPULATION_RELATIVE  \n",
       "count               307511.000000  \n",
       "mean                     0.020868  \n",
       "std                      0.013831  \n",
       "min                      0.000290  \n",
       "25%                      0.010006  \n",
       "50%                      0.018850  \n",
       "75%                      0.028663  \n",
       "max                      0.072508  "
      ]
     },
     "execution_count": 20,
     "metadata": {},
     "output_type": "execute_result"
    }
   ],
   "source": [
    "df[cols_float[:5]].describe()"
   ]
  },
  {
   "cell_type": "code",
   "execution_count": 21,
   "metadata": {},
   "outputs": [
    {
     "data": {
      "image/png": "[encoded data removed]",
      "text/plain": [
       "<matplotlib.figure.Figure at 0x11486e5c0>"
      ]
     },
     "metadata": {},
     "output_type": "display_data"
    }
   ],
   "source": [
    "df[cols_float[:5]].plot(kind='box', subplots=True, figsize=(15, 5));"
   ]
  },
  {
   "cell_type": "code",
   "execution_count": 22,
   "metadata": {},
   "outputs": [
    {
     "data": {
      "image/png": "[encoded data removed]",
      "text/plain": [
       "<matplotlib.figure.Figure at 0x11e08f860>"
      ]
     },
     "metadata": {},
     "output_type": "display_data"
    }
   ],
   "source": [
    "df[cols_float[5:10]].plot(kind='box', subplots=True, figsize=(15, 5));"
   ]
  },
  {
   "cell_type": "code",
   "execution_count": 23,
   "metadata": {},
   "outputs": [
    {
     "data": {
      "image/png": "[encoded data removed]",
      "text/plain": [
       "<matplotlib.figure.Figure at 0x1153df940>"
      ]
     },
     "metadata": {},
     "output_type": "display_data"
    }
   ],
   "source": [
    "df[cols_float[10:15]].plot(kind='box', subplots=True, figsize=(15, 5));"
   ]
  },
  {
   "cell_type": "code",
   "execution_count": 24,
   "metadata": {},
   "outputs": [
    {
     "data": {
      "image/png": "[encoded data removed]",
      "text/plain": [
       "<matplotlib.figure.Figure at 0x1160e0358>"
      ]
     },
     "metadata": {},
     "output_type": "display_data"
    }
   ],
   "source": [
    "df[cols_float[15:20]].plot(kind='box', subplots=True, figsize=(15, 5));"
   ]
  },
  {
   "cell_type": "code",
   "execution_count": 25,
   "metadata": {},
   "outputs": [
    {
     "data": {
      "image/png": "[encoded data removed]",
      "text/plain": [
       "<matplotlib.figure.Figure at 0x114f3af98>"
      ]
     },
     "metadata": {},
     "output_type": "display_data"
    }
   ],
   "source": [
    "df[cols_float[20:25]].plot(kind='box', subplots=True, figsize=(15, 5));"
   ]
  },
  {
   "cell_type": "code",
   "execution_count": 26,
   "metadata": {},
   "outputs": [
    {
     "data": {
      "image/png": "[encoded data removed]",
      "text/plain": [
       "<matplotlib.figure.Figure at 0x114ba7390>"
      ]
     },
     "metadata": {},
     "output_type": "display_data"
    }
   ],
   "source": [
    "df[cols_float[25:30]].plot(kind='box', subplots=True, figsize=(15, 5));"
   ]
  },
  {
   "cell_type": "code",
   "execution_count": 27,
   "metadata": {},
   "outputs": [
    {
     "data": {
      "image/png": "[encoded data removed]",
      "text/plain": [
       "<matplotlib.figure.Figure at 0x11611c7f0>"
      ]
     },
     "metadata": {},
     "output_type": "display_data"
    }
   ],
   "source": [
    "df[cols_float[30:35]].plot(kind='box', subplots=True, figsize=(15, 5));"
   ]
  },
  {
   "cell_type": "code",
   "execution_count": 28,
   "metadata": {},
   "outputs": [
    {
     "data": {
      "image/png": "[encoded data removed]",
      "text/plain": [
       "<matplotlib.figure.Figure at 0x115662da0>"
      ]
     },
     "metadata": {},
     "output_type": "display_data"
    }
   ],
   "source": [
    "df[cols_float[35:40]].plot(kind='box', subplots=True, figsize=(15, 5));"
   ]
  },
  {
   "cell_type": "code",
   "execution_count": 29,
   "metadata": {},
   "outputs": [
    {
     "data": {
      "image/png": "[encoded data removed]",
      "text/plain": [
       "<matplotlib.figure.Figure at 0x116128358>"
      ]
     },
     "metadata": {},
     "output_type": "display_data"
    }
   ],
   "source": [
    "df[cols_float[40:45]].plot(kind='box', subplots=True, figsize=(15, 5));"
   ]
  },
  {
   "cell_type": "code",
   "execution_count": 30,
   "metadata": {},
   "outputs": [
    {
     "data": {
      "image/png": "[encoded data removed]",
      "text/plain": [
       "<matplotlib.figure.Figure at 0x115644470>"
      ]
     },
     "metadata": {},
     "output_type": "display_data"
    }
   ],
   "source": [
    "df[cols_float[45:50]].plot(kind='box', subplots=True, figsize=(15, 5));"
   ]
  },
  {
   "cell_type": "code",
   "execution_count": 31,
   "metadata": {},
   "outputs": [
    {
     "data": {
      "image/png": "[encoded data removed]",
      "text/plain": [
       "<matplotlib.figure.Figure at 0x114d981d0>"
      ]
     },
     "metadata": {},
     "output_type": "display_data"
    }
   ],
   "source": [
    "df[cols_float[50:55]].plot(kind='box', subplots=True, figsize=(15, 5));"
   ]
  },
  {
   "cell_type": "code",
   "execution_count": 32,
   "metadata": {},
   "outputs": [
    {
     "data": {
      "image/png": "[encoded data removed]",
      "text/plain": [
       "<matplotlib.figure.Figure at 0x115a314e0>"
      ]
     },
     "metadata": {},
     "output_type": "display_data"
    }
   ],
   "source": [
    "df[cols_float[55:60]].plot(kind='box', subplots=True, figsize=(15, 5));"
   ]
  },
  {
   "cell_type": "code",
   "execution_count": 33,
   "metadata": {},
   "outputs": [
    {
     "data": {
      "image/png": "[encoded data removed]",
      "text/plain": [
       "<matplotlib.figure.Figure at 0x117cc0128>"
      ]
     },
     "metadata": {},
     "output_type": "display_data"
    }
   ],
   "source": [
    "df[cols_float[60:-1]].plot(kind='box', subplots=True, figsize=(15, 5));"
   ]
  },
  {
   "cell_type": "code",
   "execution_count": 34,
   "metadata": {},
   "outputs": [
    {
     "data": {
      "text/plain": [
       "AMT_INCOME_TOTAL                  2548\n",
       "AMT_CREDIT                        5603\n",
       "AMT_ANNUITY                      13672\n",
       "AMT_GOODS_PRICE                   1002\n",
       "REGION_POPULATION_RELATIVE          81\n",
       "DAYS_REGISTRATION                15688\n",
       "OWN_CAR_AGE                         62\n",
       "CNT_FAM_MEMBERS                     17\n",
       "EXT_SOURCE_1                    114584\n",
       "EXT_SOURCE_2                    119831\n",
       "EXT_SOURCE_3                       814\n",
       "APARTMENTS_AVG                    2339\n",
       "BASEMENTAREA_AVG                  3780\n",
       "YEARS_BEGINEXPLUATATION_AVG        285\n",
       "YEARS_BUILD_AVG                    149\n",
       "COMMONAREA_AVG                    3181\n",
       "ELEVATORS_AVG                      257\n",
       "ENTRANCES_AVG                      285\n",
       "FLOORSMAX_AVG                      403\n",
       "FLOORSMIN_AVG                      305\n",
       "LANDAREA_AVG                      3527\n",
       "LIVINGAPARTMENTS_AVG              1868\n",
       "LIVINGAREA_AVG                    5199\n",
       "NONLIVINGAPARTMENTS_AVG            386\n",
       "NONLIVINGAREA_AVG                 3290\n",
       "APARTMENTS_MODE                    760\n",
       "BASEMENTAREA_MODE                 3841\n",
       "YEARS_BEGINEXPLUATATION_MODE       221\n",
       "YEARS_BUILD_MODE                   154\n",
       "COMMONAREA_MODE                   3128\n",
       "                                 ...  \n",
       "LIVINGAPARTMENTS_MODE              736\n",
       "LIVINGAREA_MODE                   5301\n",
       "NONLIVINGAPARTMENTS_MODE           167\n",
       "NONLIVINGAREA_MODE                3327\n",
       "APARTMENTS_MEDI                   1148\n",
       "BASEMENTAREA_MEDI                 3772\n",
       "YEARS_BEGINEXPLUATATION_MEDI       245\n",
       "YEARS_BUILD_MEDI                   151\n",
       "COMMONAREA_MEDI                   3202\n",
       "ELEVATORS_MEDI                      46\n",
       "ENTRANCES_MEDI                      46\n",
       "FLOORSMAX_MEDI                      49\n",
       "FLOORSMIN_MEDI                      47\n",
       "LANDAREA_MEDI                     3560\n",
       "LIVINGAPARTMENTS_MEDI             1097\n",
       "LIVINGAREA_MEDI                   5281\n",
       "NONLIVINGAPARTMENTS_MEDI           214\n",
       "NONLIVINGAREA_MEDI                3323\n",
       "TOTALAREA_MODE                    5116\n",
       "OBS_30_CNT_SOCIAL_CIRCLE            33\n",
       "DEF_30_CNT_SOCIAL_CIRCLE            10\n",
       "OBS_60_CNT_SOCIAL_CIRCLE            33\n",
       "DEF_60_CNT_SOCIAL_CIRCLE             9\n",
       "DAYS_LAST_PHONE_CHANGE            3773\n",
       "AMT_REQ_CREDIT_BUREAU_HOUR           5\n",
       "AMT_REQ_CREDIT_BUREAU_DAY            9\n",
       "AMT_REQ_CREDIT_BUREAU_WEEK           9\n",
       "AMT_REQ_CREDIT_BUREAU_MON           24\n",
       "AMT_REQ_CREDIT_BUREAU_QRT           11\n",
       "AMT_REQ_CREDIT_BUREAU_YEAR          25\n",
       "Length: 65, dtype: int64"
      ]
     },
     "execution_count": 34,
     "metadata": {},
     "output_type": "execute_result"
    }
   ],
   "source": [
    "df[cols_float].nunique()"
   ]
  },
  {
   "cell_type": "code",
   "execution_count": 35,
   "metadata": {},
   "outputs": [
    {
     "data": {
      "text/plain": [
       "'/Users/dibyendumandal/Desktop/GDSO'"
      ]
     },
     "execution_count": 35,
     "metadata": {},
     "output_type": "execute_result"
    }
   ],
   "source": [
    "pwd"
   ]
  },
  {
   "cell_type": "code",
   "execution_count": 39,
   "metadata": {},
   "outputs": [
    {
     "data": {
      "text/html": [
       "<div>\n",
       "<style scoped>\n",
       "    .dataframe tbody tr th:only-of-type {\n",
       "        vertical-align: middle;\n",
       "    }\n",
       "\n",
       "    .dataframe tbody tr th {\n",
       "        vertical-align: top;\n",
       "    }\n",
       "\n",
       "    .dataframe thead th {\n",
       "        text-align: right;\n",
       "    }\n",
       "</style>\n",
       "<table border=\"1\" class=\"dataframe\">\n",
       "  <thead>\n",
       "    <tr style=\"text-align: right;\">\n",
       "      <th></th>\n",
       "      <th>a</th>\n",
       "      <th>b</th>\n",
       "    </tr>\n",
       "  </thead>\n",
       "  <tbody>\n",
       "    <tr>\n",
       "      <th>0</th>\n",
       "      <td>1</td>\n",
       "      <td>2</td>\n",
       "    </tr>\n",
       "    <tr>\n",
       "      <th>1</th>\n",
       "      <td>3</td>\n",
       "      <td>4</td>\n",
       "    </tr>\n",
       "  </tbody>\n",
       "</table>\n",
       "</div>"
      ],
      "text/plain": [
       "   a  b\n",
       "0  1  2\n",
       "1  3  4"
      ]
     },
     "execution_count": 39,
     "metadata": {},
     "output_type": "execute_result"
    }
   ],
   "source": [
    "df_test = pd.DataFrame([[1, 2], [3,4]], columns=['a','b'])\n",
    "df_test"
   ]
  },
  {
   "cell_type": "code",
   "execution_count": 38,
   "metadata": {},
   "outputs": [],
   "source": [
    "import numpy as np"
   ]
  },
  {
   "cell_type": "code",
   "execution_count": 40,
   "metadata": {},
   "outputs": [
    {
     "data": {
      "text/html": [
       "<div>\n",
       "<style scoped>\n",
       "    .dataframe tbody tr th:only-of-type {\n",
       "        vertical-align: middle;\n",
       "    }\n",
       "\n",
       "    .dataframe tbody tr th {\n",
       "        vertical-align: top;\n",
       "    }\n",
       "\n",
       "    .dataframe thead th {\n",
       "        text-align: right;\n",
       "    }\n",
       "</style>\n",
       "<table border=\"1\" class=\"dataframe\">\n",
       "  <thead>\n",
       "    <tr style=\"text-align: right;\">\n",
       "      <th></th>\n",
       "      <th>a</th>\n",
       "      <th>b</th>\n",
       "    </tr>\n",
       "  </thead>\n",
       "  <tbody>\n",
       "    <tr>\n",
       "      <th>a</th>\n",
       "      <td>1.0</td>\n",
       "      <td>1.0</td>\n",
       "    </tr>\n",
       "    <tr>\n",
       "      <th>b</th>\n",
       "      <td>1.0</td>\n",
       "      <td>1.0</td>\n",
       "    </tr>\n",
       "  </tbody>\n",
       "</table>\n",
       "</div>"
      ],
      "text/plain": [
       "     a    b\n",
       "a  1.0  1.0\n",
       "b  1.0  1.0"
      ]
     },
     "execution_count": 40,
     "metadata": {},
     "output_type": "execute_result"
    }
   ],
   "source": [
    "df_test.corr()"
   ]
  },
  {
   "cell_type": "code",
   "execution_count": 43,
   "metadata": {},
   "outputs": [],
   "source": [
    "corr_float = df[cols_float].corr()"
   ]
  },
  {
   "cell_type": "code",
   "execution_count": 44,
   "metadata": {},
   "outputs": [
    {
     "data": {
      "text/html": [
       "<div>\n",
       "<style scoped>\n",
       "    .dataframe tbody tr th:only-of-type {\n",
       "        vertical-align: middle;\n",
       "    }\n",
       "\n",
       "    .dataframe tbody tr th {\n",
       "        vertical-align: top;\n",
       "    }\n",
       "\n",
       "    .dataframe thead th {\n",
       "        text-align: right;\n",
       "    }\n",
       "</style>\n",
       "<table border=\"1\" class=\"dataframe\">\n",
       "  <thead>\n",
       "    <tr style=\"text-align: right;\">\n",
       "      <th></th>\n",
       "      <th>AMT_INCOME_TOTAL</th>\n",
       "      <th>AMT_CREDIT</th>\n",
       "      <th>AMT_ANNUITY</th>\n",
       "      <th>AMT_GOODS_PRICE</th>\n",
       "      <th>REGION_POPULATION_RELATIVE</th>\n",
       "      <th>DAYS_REGISTRATION</th>\n",
       "      <th>OWN_CAR_AGE</th>\n",
       "      <th>CNT_FAM_MEMBERS</th>\n",
       "      <th>EXT_SOURCE_1</th>\n",
       "      <th>EXT_SOURCE_2</th>\n",
       "      <th>...</th>\n",
       "      <th>DEF_30_CNT_SOCIAL_CIRCLE</th>\n",
       "      <th>OBS_60_CNT_SOCIAL_CIRCLE</th>\n",
       "      <th>DEF_60_CNT_SOCIAL_CIRCLE</th>\n",
       "      <th>DAYS_LAST_PHONE_CHANGE</th>\n",
       "      <th>AMT_REQ_CREDIT_BUREAU_HOUR</th>\n",
       "      <th>AMT_REQ_CREDIT_BUREAU_DAY</th>\n",
       "      <th>AMT_REQ_CREDIT_BUREAU_WEEK</th>\n",
       "      <th>AMT_REQ_CREDIT_BUREAU_MON</th>\n",
       "      <th>AMT_REQ_CREDIT_BUREAU_QRT</th>\n",
       "      <th>AMT_REQ_CREDIT_BUREAU_YEAR</th>\n",
       "    </tr>\n",
       "  </thead>\n",
       "  <tbody>\n",
       "    <tr>\n",
       "      <th>AMT_INCOME_TOTAL</th>\n",
       "      <td>1.000000</td>\n",
       "      <td>0.156870</td>\n",
       "      <td>0.191657</td>\n",
       "      <td>0.159610</td>\n",
       "      <td>0.074796</td>\n",
       "      <td>0.027805</td>\n",
       "      <td>-0.117273</td>\n",
       "      <td>0.016342</td>\n",
       "      <td>0.026232</td>\n",
       "      <td>0.060925</td>\n",
       "      <td>...</td>\n",
       "      <td>-0.013244</td>\n",
       "      <td>-0.013015</td>\n",
       "      <td>-0.013135</td>\n",
       "      <td>-0.018585</td>\n",
       "      <td>0.000709</td>\n",
       "      <td>0.002944</td>\n",
       "      <td>0.002387</td>\n",
       "      <td>0.024700</td>\n",
       "      <td>0.004859</td>\n",
       "      <td>0.011690</td>\n",
       "    </tr>\n",
       "    <tr>\n",
       "      <th>AMT_CREDIT</th>\n",
       "      <td>0.156870</td>\n",
       "      <td>1.000000</td>\n",
       "      <td>0.770138</td>\n",
       "      <td>0.986968</td>\n",
       "      <td>0.099738</td>\n",
       "      <td>0.009621</td>\n",
       "      <td>-0.094191</td>\n",
       "      <td>0.063160</td>\n",
       "      <td>0.168429</td>\n",
       "      <td>0.131228</td>\n",
       "      <td>...</td>\n",
       "      <td>-0.021229</td>\n",
       "      <td>0.000239</td>\n",
       "      <td>-0.023767</td>\n",
       "      <td>-0.073701</td>\n",
       "      <td>-0.003906</td>\n",
       "      <td>0.004238</td>\n",
       "      <td>-0.001275</td>\n",
       "      <td>0.054451</td>\n",
       "      <td>0.015925</td>\n",
       "      <td>-0.048448</td>\n",
       "    </tr>\n",
       "    <tr>\n",
       "      <th>AMT_ANNUITY</th>\n",
       "      <td>0.191657</td>\n",
       "      <td>0.770138</td>\n",
       "      <td>1.000000</td>\n",
       "      <td>0.775109</td>\n",
       "      <td>0.118429</td>\n",
       "      <td>0.038514</td>\n",
       "      <td>-0.097057</td>\n",
       "      <td>0.075539</td>\n",
       "      <td>0.119398</td>\n",
       "      <td>0.125804</td>\n",
       "      <td>...</td>\n",
       "      <td>-0.022833</td>\n",
       "      <td>-0.011731</td>\n",
       "      <td>-0.024001</td>\n",
       "      <td>-0.063747</td>\n",
       "      <td>0.003861</td>\n",
       "      <td>0.002185</td>\n",
       "      <td>0.013881</td>\n",
       "      <td>0.039148</td>\n",
       "      <td>0.010124</td>\n",
       "      <td>-0.011320</td>\n",
       "    </tr>\n",
       "    <tr>\n",
       "      <th>AMT_GOODS_PRICE</th>\n",
       "      <td>0.159610</td>\n",
       "      <td>0.986968</td>\n",
       "      <td>0.775109</td>\n",
       "      <td>1.000000</td>\n",
       "      <td>0.103520</td>\n",
       "      <td>0.011565</td>\n",
       "      <td>-0.103733</td>\n",
       "      <td>0.061185</td>\n",
       "      <td>0.175502</td>\n",
       "      <td>0.139367</td>\n",
       "      <td>...</td>\n",
       "      <td>-0.022244</td>\n",
       "      <td>0.000347</td>\n",
       "      <td>-0.024506</td>\n",
       "      <td>-0.076313</td>\n",
       "      <td>-0.003237</td>\n",
       "      <td>0.004677</td>\n",
       "      <td>-0.001007</td>\n",
       "      <td>0.056422</td>\n",
       "      <td>0.016432</td>\n",
       "      <td>-0.050998</td>\n",
       "    </tr>\n",
       "    <tr>\n",
       "      <th>REGION_POPULATION_RELATIVE</th>\n",
       "      <td>0.074796</td>\n",
       "      <td>0.099738</td>\n",
       "      <td>0.118429</td>\n",
       "      <td>0.103520</td>\n",
       "      <td>1.000000</td>\n",
       "      <td>-0.053820</td>\n",
       "      <td>-0.081429</td>\n",
       "      <td>-0.024209</td>\n",
       "      <td>0.099997</td>\n",
       "      <td>0.198924</td>\n",
       "      <td>...</td>\n",
       "      <td>0.006329</td>\n",
       "      <td>-0.010638</td>\n",
       "      <td>0.002404</td>\n",
       "      <td>-0.044013</td>\n",
       "      <td>-0.002225</td>\n",
       "      <td>0.001399</td>\n",
       "      <td>-0.002149</td>\n",
       "      <td>0.078607</td>\n",
       "      <td>-0.001279</td>\n",
       "      <td>0.001003</td>\n",
       "    </tr>\n",
       "  </tbody>\n",
       "</table>\n",
       "<p>5 rows × 65 columns</p>\n",
       "</div>"
      ],
      "text/plain": [
       "                            AMT_INCOME_TOTAL  AMT_CREDIT  AMT_ANNUITY  \\\n",
       "AMT_INCOME_TOTAL                    1.000000    0.156870     0.191657   \n",
       "AMT_CREDIT                          0.156870    1.000000     0.770138   \n",
       "AMT_ANNUITY                         0.191657    0.770138     1.000000   \n",
       "AMT_GOODS_PRICE                     0.159610    0.986968     0.775109   \n",
       "REGION_POPULATION_RELATIVE          0.074796    0.099738     0.118429   \n",
       "\n",
       "                            AMT_GOODS_PRICE  REGION_POPULATION_RELATIVE  \\\n",
       "AMT_INCOME_TOTAL                   0.159610                    0.074796   \n",
       "AMT_CREDIT                         0.986968                    0.099738   \n",
       "AMT_ANNUITY                        0.775109                    0.118429   \n",
       "AMT_GOODS_PRICE                    1.000000                    0.103520   \n",
       "REGION_POPULATION_RELATIVE         0.103520                    1.000000   \n",
       "\n",
       "                            DAYS_REGISTRATION  OWN_CAR_AGE  CNT_FAM_MEMBERS  \\\n",
       "AMT_INCOME_TOTAL                     0.027805    -0.117273         0.016342   \n",
       "AMT_CREDIT                           0.009621    -0.094191         0.063160   \n",
       "AMT_ANNUITY                          0.038514    -0.097057         0.075539   \n",
       "AMT_GOODS_PRICE                      0.011565    -0.103733         0.061185   \n",
       "REGION_POPULATION_RELATIVE          -0.053820    -0.081429        -0.024209   \n",
       "\n",
       "                            EXT_SOURCE_1  EXT_SOURCE_2  \\\n",
       "AMT_INCOME_TOTAL                0.026232      0.060925   \n",
       "AMT_CREDIT                      0.168429      0.131228   \n",
       "AMT_ANNUITY                     0.119398      0.125804   \n",
       "AMT_GOODS_PRICE                 0.175502      0.139367   \n",
       "REGION_POPULATION_RELATIVE      0.099997      0.198924   \n",
       "\n",
       "                                       ...              \\\n",
       "AMT_INCOME_TOTAL                       ...               \n",
       "AMT_CREDIT                             ...               \n",
       "AMT_ANNUITY                            ...               \n",
       "AMT_GOODS_PRICE                        ...               \n",
       "REGION_POPULATION_RELATIVE             ...               \n",
       "\n",
       "                            DEF_30_CNT_SOCIAL_CIRCLE  \\\n",
       "AMT_INCOME_TOTAL                           -0.013244   \n",
       "AMT_CREDIT                                 -0.021229   \n",
       "AMT_ANNUITY                                -0.022833   \n",
       "AMT_GOODS_PRICE                            -0.022244   \n",
       "REGION_POPULATION_RELATIVE                  0.006329   \n",
       "\n",
       "                            OBS_60_CNT_SOCIAL_CIRCLE  \\\n",
       "AMT_INCOME_TOTAL                           -0.013015   \n",
       "AMT_CREDIT                                  0.000239   \n",
       "AMT_ANNUITY                                -0.011731   \n",
       "AMT_GOODS_PRICE                             0.000347   \n",
       "REGION_POPULATION_RELATIVE                 -0.010638   \n",
       "\n",
       "                            DEF_60_CNT_SOCIAL_CIRCLE  DAYS_LAST_PHONE_CHANGE  \\\n",
       "AMT_INCOME_TOTAL                           -0.013135               -0.018585   \n",
       "AMT_CREDIT                                 -0.023767               -0.073701   \n",
       "AMT_ANNUITY                                -0.024001               -0.063747   \n",
       "AMT_GOODS_PRICE                            -0.024506               -0.076313   \n",
       "REGION_POPULATION_RELATIVE                  0.002404               -0.044013   \n",
       "\n",
       "                            AMT_REQ_CREDIT_BUREAU_HOUR  \\\n",
       "AMT_INCOME_TOTAL                              0.000709   \n",
       "AMT_CREDIT                                   -0.003906   \n",
       "AMT_ANNUITY                                   0.003861   \n",
       "AMT_GOODS_PRICE                              -0.003237   \n",
       "REGION_POPULATION_RELATIVE                   -0.002225   \n",
       "\n",
       "                            AMT_REQ_CREDIT_BUREAU_DAY  \\\n",
       "AMT_INCOME_TOTAL                             0.002944   \n",
       "AMT_CREDIT                                   0.004238   \n",
       "AMT_ANNUITY                                  0.002185   \n",
       "AMT_GOODS_PRICE                              0.004677   \n",
       "REGION_POPULATION_RELATIVE                   0.001399   \n",
       "\n",
       "                            AMT_REQ_CREDIT_BUREAU_WEEK  \\\n",
       "AMT_INCOME_TOTAL                              0.002387   \n",
       "AMT_CREDIT                                   -0.001275   \n",
       "AMT_ANNUITY                                   0.013881   \n",
       "AMT_GOODS_PRICE                              -0.001007   \n",
       "REGION_POPULATION_RELATIVE                   -0.002149   \n",
       "\n",
       "                            AMT_REQ_CREDIT_BUREAU_MON  \\\n",
       "AMT_INCOME_TOTAL                             0.024700   \n",
       "AMT_CREDIT                                   0.054451   \n",
       "AMT_ANNUITY                                  0.039148   \n",
       "AMT_GOODS_PRICE                              0.056422   \n",
       "REGION_POPULATION_RELATIVE                   0.078607   \n",
       "\n",
       "                            AMT_REQ_CREDIT_BUREAU_QRT  \\\n",
       "AMT_INCOME_TOTAL                             0.004859   \n",
       "AMT_CREDIT                                   0.015925   \n",
       "AMT_ANNUITY                                  0.010124   \n",
       "AMT_GOODS_PRICE                              0.016432   \n",
       "REGION_POPULATION_RELATIVE                  -0.001279   \n",
       "\n",
       "                            AMT_REQ_CREDIT_BUREAU_YEAR  \n",
       "AMT_INCOME_TOTAL                              0.011690  \n",
       "AMT_CREDIT                                   -0.048448  \n",
       "AMT_ANNUITY                                  -0.011320  \n",
       "AMT_GOODS_PRICE                              -0.050998  \n",
       "REGION_POPULATION_RELATIVE                    0.001003  \n",
       "\n",
       "[5 rows x 65 columns]"
      ]
     },
     "execution_count": 44,
     "metadata": {},
     "output_type": "execute_result"
    }
   ],
   "source": [
    "corr_float.iloc[:5]"
   ]
  },
  {
   "cell_type": "code",
   "execution_count": 45,
   "metadata": {},
   "outputs": [],
   "source": [
    "import seaborn as sns"
   ]
  },
  {
   "cell_type": "code",
   "execution_count": 79,
   "metadata": {},
   "outputs": [],
   "source": [
    "import matplotlib.pyplot as plt"
   ]
  },
  {
   "cell_type": "code",
   "execution_count": 93,
   "metadata": {},
   "outputs": [
    {
     "data": {
      "image/png": "[encoded data removed]",
      "text/plain": [
       "<matplotlib.figure.Figure at 0x11e066b38>"
      ]
     },
     "metadata": {},
     "output_type": "display_data"
    }
   ],
   "source": [
    "plt.figure(figsize=(10, 10))\n",
    "sns.heatmap(corr_float.iloc[:20, :20], xticklabels=True, yticklabels=True);"
   ]
  },
  {
   "cell_type": "code",
   "execution_count": 62,
   "metadata": {},
   "outputs": [],
   "source": [
    "corr = df.corr()"
   ]
  },
  {
   "cell_type": "code",
   "execution_count": 100,
   "metadata": {},
   "outputs": [],
   "source": [
    "?pd.Series.sort_values()"
   ]
  },
  {
   "cell_type": "code",
   "execution_count": 117,
   "metadata": {},
   "outputs": [
    {
     "data": {
      "text/plain": [
       "TARGET                         1.000000\n",
       "EXT_SOURCE_3                   0.178919\n",
       "EXT_SOURCE_2                   0.160472\n",
       "EXT_SOURCE_1                   0.155317\n",
       "DAYS_BIRTH                     0.078239\n",
       "REGION_RATING_CLIENT_W_CITY    0.060893\n",
       "REGION_RATING_CLIENT           0.058899\n",
       "DAYS_LAST_PHONE_CHANGE         0.055218\n",
       "DAYS_ID_PUBLISH                0.051457\n",
       "REG_CITY_NOT_WORK_CITY         0.050994\n",
       "FLAG_EMP_PHONE                 0.045982\n",
       "DAYS_EMPLOYED                  0.044932\n",
       "REG_CITY_NOT_LIVE_CITY         0.044395\n",
       "FLAG_DOCUMENT_3                0.044346\n",
       "FLOORSMAX_AVG                  0.044003\n",
       "FLOORSMAX_MEDI                 0.043768\n",
       "FLOORSMAX_MODE                 0.043226\n",
       "DAYS_REGISTRATION              0.041975\n",
       "AMT_GOODS_PRICE                0.039645\n",
       "OWN_CAR_AGE                    0.037612\n",
       "REGION_POPULATION_RELATIVE     0.037227\n",
       "ELEVATORS_AVG                  0.034199\n",
       "ELEVATORS_MEDI                 0.033863\n",
       "FLOORSMIN_AVG                  0.033614\n",
       "FLOORSMIN_MEDI                 0.033394\n",
       "LIVINGAREA_AVG                 0.032997\n",
       "LIVINGAREA_MEDI                0.032739\n",
       "FLOORSMIN_MODE                 0.032698\n",
       "TOTALAREA_MODE                 0.032596\n",
       "LIVE_CITY_NOT_WORK_CITY        0.032518\n",
       "                                 ...   \n",
       "FLAG_DOCUMENT_8                0.008040\n",
       "FLAG_DOCUMENT_18               0.007952\n",
       "REG_REGION_NOT_WORK_REGION     0.006942\n",
       "FLAG_DOCUMENT_15               0.006536\n",
       "REG_REGION_NOT_LIVE_REGION     0.005576\n",
       "FLAG_DOCUMENT_2                0.005417\n",
       "FLAG_DOCUMENT_9                0.004352\n",
       "FLAG_DOCUMENT_11               0.004229\n",
       "AMT_INCOME_TOTAL               0.003982\n",
       "FLAG_DOCUMENT_21               0.003709\n",
       "FLAG_DOCUMENT_17               0.003378\n",
       "NONLIVINGAPARTMENTS_AVG        0.003176\n",
       "LIVE_REGION_NOT_WORK_REGION    0.002819\n",
       "NONLIVINGAPARTMENTS_MEDI       0.002757\n",
       "AMT_REQ_CREDIT_BUREAU_DAY      0.002704\n",
       "FLAG_DOCUMENT_4                0.002672\n",
       "SK_ID_CURR                     0.002108\n",
       "AMT_REQ_CREDIT_BUREAU_QRT      0.002022\n",
       "FLAG_EMAIL                     0.001758\n",
       "NONLIVINGAPARTMENTS_MODE       0.001557\n",
       "FLAG_DOCUMENT_7                0.001520\n",
       "FLAG_DOCUMENT_10               0.001414\n",
       "FLAG_DOCUMENT_19               0.001358\n",
       "AMT_REQ_CREDIT_BUREAU_HOUR     0.000930\n",
       "AMT_REQ_CREDIT_BUREAU_WEEK     0.000788\n",
       "FLAG_DOCUMENT_12               0.000756\n",
       "FLAG_MOBIL                     0.000534\n",
       "FLAG_CONT_MOBILE               0.000370\n",
       "FLAG_DOCUMENT_5                0.000316\n",
       "FLAG_DOCUMENT_20               0.000215\n",
       "Name: TARGET, Length: 106, dtype: float64"
      ]
     },
     "execution_count": 117,
     "metadata": {},
     "output_type": "execute_result"
    }
   ],
   "source": [
    "corr['TARGET'].abs().sort_values(ascending=False)"
   ]
  },
  {
   "cell_type": "code",
   "execution_count": 108,
   "metadata": {},
   "outputs": [
    {
     "data": {
      "text/plain": [
       "0.05521848351345953"
      ]
     },
     "execution_count": 108,
     "metadata": {},
     "output_type": "execute_result"
    }
   ],
   "source": [
    "df['TARGET'].corr(df['DAYS_LAST_PHONE_CHANGE'])"
   ]
  },
  {
   "cell_type": "code",
   "execution_count": 124,
   "metadata": {},
   "outputs": [
    {
     "data": {
      "text/plain": [
       "['EXT_SOURCE_3',\n",
       " 'EXT_SOURCE_2',\n",
       " 'EXT_SOURCE_1',\n",
       " 'DAYS_BIRTH',\n",
       " 'REGION_RATING_CLIENT_W_CITY',\n",
       " 'REGION_RATING_CLIENT',\n",
       " 'DAYS_LAST_PHONE_CHANGE',\n",
       " 'DAYS_ID_PUBLISH',\n",
       " 'REG_CITY_NOT_WORK_CITY',\n",
       " 'FLAG_EMP_PHONE',\n",
       " 'DAYS_EMPLOYED',\n",
       " 'REG_CITY_NOT_LIVE_CITY',\n",
       " 'FLAG_DOCUMENT_3',\n",
       " 'FLOORSMAX_AVG',\n",
       " 'FLOORSMAX_MEDI']"
      ]
     },
     "execution_count": 124,
     "metadata": {},
     "output_type": "execute_result"
    }
   ],
   "source": [
    "corr_vars_15 = list(corr['TARGET'].abs().sort_values(ascending=False)[1:16].index)\n",
    "corr_vars_15"
   ]
  },
  {
   "cell_type": "code",
   "execution_count": 126,
   "metadata": {},
   "outputs": [
    {
     "data": {
      "text/html": [
       "<div>\n",
       "<style scoped>\n",
       "    .dataframe tbody tr th:only-of-type {\n",
       "        vertical-align: middle;\n",
       "    }\n",
       "\n",
       "    .dataframe tbody tr th {\n",
       "        vertical-align: top;\n",
       "    }\n",
       "\n",
       "    .dataframe thead th {\n",
       "        text-align: right;\n",
       "    }\n",
       "</style>\n",
       "<table border=\"1\" class=\"dataframe\">\n",
       "  <thead>\n",
       "    <tr style=\"text-align: right;\">\n",
       "      <th></th>\n",
       "      <th>EXT_SOURCE_3</th>\n",
       "      <th>EXT_SOURCE_2</th>\n",
       "      <th>EXT_SOURCE_1</th>\n",
       "      <th>DAYS_BIRTH</th>\n",
       "      <th>REGION_RATING_CLIENT_W_CITY</th>\n",
       "      <th>REGION_RATING_CLIENT</th>\n",
       "      <th>DAYS_LAST_PHONE_CHANGE</th>\n",
       "      <th>DAYS_ID_PUBLISH</th>\n",
       "      <th>REG_CITY_NOT_WORK_CITY</th>\n",
       "      <th>FLAG_EMP_PHONE</th>\n",
       "      <th>DAYS_EMPLOYED</th>\n",
       "      <th>REG_CITY_NOT_LIVE_CITY</th>\n",
       "      <th>FLAG_DOCUMENT_3</th>\n",
       "      <th>FLOORSMAX_AVG</th>\n",
       "      <th>FLOORSMAX_MEDI</th>\n",
       "    </tr>\n",
       "  </thead>\n",
       "  <tbody>\n",
       "    <tr>\n",
       "      <th>EXT_SOURCE_3</th>\n",
       "      <td>1.000000</td>\n",
       "      <td>0.109167</td>\n",
       "      <td>0.186846</td>\n",
       "      <td>0.205478</td>\n",
       "      <td>0.012158</td>\n",
       "      <td>0.012903</td>\n",
       "      <td>0.075256</td>\n",
       "      <td>0.131597</td>\n",
       "      <td>0.079729</td>\n",
       "      <td>0.115293</td>\n",
       "      <td>0.113434</td>\n",
       "      <td>0.078477</td>\n",
       "      <td>0.030696</td>\n",
       "      <td>0.003523</td>\n",
       "      <td>0.003808</td>\n",
       "    </tr>\n",
       "    <tr>\n",
       "      <th>EXT_SOURCE_2</th>\n",
       "      <td>0.109167</td>\n",
       "      <td>1.000000</td>\n",
       "      <td>0.213982</td>\n",
       "      <td>0.091996</td>\n",
       "      <td>0.288299</td>\n",
       "      <td>0.292895</td>\n",
       "      <td>0.195764</td>\n",
       "      <td>0.050955</td>\n",
       "      <td>0.075970</td>\n",
       "      <td>0.019459</td>\n",
       "      <td>0.020767</td>\n",
       "      <td>0.043266</td>\n",
       "      <td>0.030700</td>\n",
       "      <td>0.135863</td>\n",
       "      <td>0.134612</td>\n",
       "    </tr>\n",
       "    <tr>\n",
       "      <th>EXT_SOURCE_1</th>\n",
       "      <td>0.186846</td>\n",
       "      <td>0.213982</td>\n",
       "      <td>1.000000</td>\n",
       "      <td>0.600610</td>\n",
       "      <td>0.115374</td>\n",
       "      <td>0.115341</td>\n",
       "      <td>0.132607</td>\n",
       "      <td>0.132375</td>\n",
       "      <td>0.185953</td>\n",
       "      <td>0.294147</td>\n",
       "      <td>0.289848</td>\n",
       "      <td>0.141000</td>\n",
       "      <td>0.044797</td>\n",
       "      <td>0.093151</td>\n",
       "      <td>0.092108</td>\n",
       "    </tr>\n",
       "    <tr>\n",
       "      <th>DAYS_BIRTH</th>\n",
       "      <td>0.205478</td>\n",
       "      <td>0.091996</td>\n",
       "      <td>0.600610</td>\n",
       "      <td>1.000000</td>\n",
       "      <td>0.008073</td>\n",
       "      <td>0.009361</td>\n",
       "      <td>0.082939</td>\n",
       "      <td>0.272691</td>\n",
       "      <td>0.242401</td>\n",
       "      <td>0.619888</td>\n",
       "      <td>0.615864</td>\n",
       "      <td>0.180382</td>\n",
       "      <td>0.109666</td>\n",
       "      <td>0.001634</td>\n",
       "      <td>0.001791</td>\n",
       "    </tr>\n",
       "    <tr>\n",
       "      <th>REGION_RATING_CLIENT_W_CITY</th>\n",
       "      <td>0.012158</td>\n",
       "      <td>0.288299</td>\n",
       "      <td>0.115374</td>\n",
       "      <td>0.008073</td>\n",
       "      <td>1.000000</td>\n",
       "      <td>0.950842</td>\n",
       "      <td>0.025717</td>\n",
       "      <td>0.007737</td>\n",
       "      <td>0.028081</td>\n",
       "      <td>0.034712</td>\n",
       "      <td>0.034624</td>\n",
       "      <td>0.045669</td>\n",
       "      <td>0.067083</td>\n",
       "      <td>0.251391</td>\n",
       "      <td>0.247944</td>\n",
       "    </tr>\n",
       "    <tr>\n",
       "      <th>REGION_RATING_CLIENT</th>\n",
       "      <td>0.012903</td>\n",
       "      <td>0.292895</td>\n",
       "      <td>0.115341</td>\n",
       "      <td>0.009361</td>\n",
       "      <td>0.950842</td>\n",
       "      <td>1.000000</td>\n",
       "      <td>0.026022</td>\n",
       "      <td>0.005103</td>\n",
       "      <td>0.008360</td>\n",
       "      <td>0.032871</td>\n",
       "      <td>0.032750</td>\n",
       "      <td>0.035741</td>\n",
       "      <td>0.062528</td>\n",
       "      <td>0.234961</td>\n",
       "      <td>0.231517</td>\n",
       "    </tr>\n",
       "    <tr>\n",
       "      <th>DAYS_LAST_PHONE_CHANGE</th>\n",
       "      <td>0.075256</td>\n",
       "      <td>0.195764</td>\n",
       "      <td>0.132607</td>\n",
       "      <td>0.082939</td>\n",
       "      <td>0.025717</td>\n",
       "      <td>0.026022</td>\n",
       "      <td>1.000000</td>\n",
       "      <td>0.088576</td>\n",
       "      <td>0.046788</td>\n",
       "      <td>0.021103</td>\n",
       "      <td>0.023032</td>\n",
       "      <td>0.054183</td>\n",
       "      <td>0.061760</td>\n",
       "      <td>0.007130</td>\n",
       "      <td>0.007078</td>\n",
       "    </tr>\n",
       "    <tr>\n",
       "      <th>DAYS_ID_PUBLISH</th>\n",
       "      <td>0.131597</td>\n",
       "      <td>0.050955</td>\n",
       "      <td>0.132375</td>\n",
       "      <td>0.272691</td>\n",
       "      <td>0.007737</td>\n",
       "      <td>0.005103</td>\n",
       "      <td>0.088576</td>\n",
       "      <td>1.000000</td>\n",
       "      <td>0.099354</td>\n",
       "      <td>0.273611</td>\n",
       "      <td>0.272378</td>\n",
       "      <td>0.076326</td>\n",
       "      <td>0.050309</td>\n",
       "      <td>0.010235</td>\n",
       "      <td>0.010307</td>\n",
       "    </tr>\n",
       "    <tr>\n",
       "      <th>REG_CITY_NOT_WORK_CITY</th>\n",
       "      <td>0.079729</td>\n",
       "      <td>0.075970</td>\n",
       "      <td>0.185953</td>\n",
       "      <td>0.242401</td>\n",
       "      <td>0.028081</td>\n",
       "      <td>0.008360</td>\n",
       "      <td>0.046788</td>\n",
       "      <td>0.099354</td>\n",
       "      <td>1.000000</td>\n",
       "      <td>0.256427</td>\n",
       "      <td>0.254559</td>\n",
       "      <td>0.440409</td>\n",
       "      <td>0.056275</td>\n",
       "      <td>0.115932</td>\n",
       "      <td>0.114920</td>\n",
       "    </tr>\n",
       "    <tr>\n",
       "      <th>FLAG_EMP_PHONE</th>\n",
       "      <td>0.115293</td>\n",
       "      <td>0.019459</td>\n",
       "      <td>0.294147</td>\n",
       "      <td>0.619888</td>\n",
       "      <td>0.034712</td>\n",
       "      <td>0.032871</td>\n",
       "      <td>0.021103</td>\n",
       "      <td>0.273611</td>\n",
       "      <td>0.256427</td>\n",
       "      <td>1.000000</td>\n",
       "      <td>0.999755</td>\n",
       "      <td>0.092166</td>\n",
       "      <td>0.248534</td>\n",
       "      <td>0.016048</td>\n",
       "      <td>0.016121</td>\n",
       "    </tr>\n",
       "    <tr>\n",
       "      <th>DAYS_EMPLOYED</th>\n",
       "      <td>0.113434</td>\n",
       "      <td>0.020767</td>\n",
       "      <td>0.289848</td>\n",
       "      <td>0.615864</td>\n",
       "      <td>0.034624</td>\n",
       "      <td>0.032750</td>\n",
       "      <td>0.023032</td>\n",
       "      <td>0.272378</td>\n",
       "      <td>0.254559</td>\n",
       "      <td>0.999755</td>\n",
       "      <td>1.000000</td>\n",
       "      <td>0.090516</td>\n",
       "      <td>0.249082</td>\n",
       "      <td>0.015970</td>\n",
       "      <td>0.016051</td>\n",
       "    </tr>\n",
       "    <tr>\n",
       "      <th>REG_CITY_NOT_LIVE_CITY</th>\n",
       "      <td>0.078477</td>\n",
       "      <td>0.043266</td>\n",
       "      <td>0.141000</td>\n",
       "      <td>0.180382</td>\n",
       "      <td>0.045669</td>\n",
       "      <td>0.035741</td>\n",
       "      <td>0.054183</td>\n",
       "      <td>0.076326</td>\n",
       "      <td>0.440409</td>\n",
       "      <td>0.092166</td>\n",
       "      <td>0.090516</td>\n",
       "      <td>1.000000</td>\n",
       "      <td>0.003117</td>\n",
       "      <td>0.070172</td>\n",
       "      <td>0.069786</td>\n",
       "    </tr>\n",
       "    <tr>\n",
       "      <th>FLAG_DOCUMENT_3</th>\n",
       "      <td>0.030696</td>\n",
       "      <td>0.030700</td>\n",
       "      <td>0.044797</td>\n",
       "      <td>0.109666</td>\n",
       "      <td>0.067083</td>\n",
       "      <td>0.062528</td>\n",
       "      <td>0.061760</td>\n",
       "      <td>0.050309</td>\n",
       "      <td>0.056275</td>\n",
       "      <td>0.248534</td>\n",
       "      <td>0.249082</td>\n",
       "      <td>0.003117</td>\n",
       "      <td>1.000000</td>\n",
       "      <td>0.077062</td>\n",
       "      <td>0.076210</td>\n",
       "    </tr>\n",
       "    <tr>\n",
       "      <th>FLOORSMAX_AVG</th>\n",
       "      <td>0.003523</td>\n",
       "      <td>0.135863</td>\n",
       "      <td>0.093151</td>\n",
       "      <td>0.001634</td>\n",
       "      <td>0.251391</td>\n",
       "      <td>0.234961</td>\n",
       "      <td>0.007130</td>\n",
       "      <td>0.010235</td>\n",
       "      <td>0.115932</td>\n",
       "      <td>0.016048</td>\n",
       "      <td>0.015970</td>\n",
       "      <td>0.070172</td>\n",
       "      <td>0.077062</td>\n",
       "      <td>1.000000</td>\n",
       "      <td>0.997034</td>\n",
       "    </tr>\n",
       "    <tr>\n",
       "      <th>FLOORSMAX_MEDI</th>\n",
       "      <td>0.003808</td>\n",
       "      <td>0.134612</td>\n",
       "      <td>0.092108</td>\n",
       "      <td>0.001791</td>\n",
       "      <td>0.247944</td>\n",
       "      <td>0.231517</td>\n",
       "      <td>0.007078</td>\n",
       "      <td>0.010307</td>\n",
       "      <td>0.114920</td>\n",
       "      <td>0.016121</td>\n",
       "      <td>0.016051</td>\n",
       "      <td>0.069786</td>\n",
       "      <td>0.076210</td>\n",
       "      <td>0.997034</td>\n",
       "      <td>1.000000</td>\n",
       "    </tr>\n",
       "  </tbody>\n",
       "</table>\n",
       "</div>"
      ],
      "text/plain": [
       "                             EXT_SOURCE_3  EXT_SOURCE_2  EXT_SOURCE_1  \\\n",
       "EXT_SOURCE_3                     1.000000      0.109167      0.186846   \n",
       "EXT_SOURCE_2                     0.109167      1.000000      0.213982   \n",
       "EXT_SOURCE_1                     0.186846      0.213982      1.000000   \n",
       "DAYS_BIRTH                       0.205478      0.091996      0.600610   \n",
       "REGION_RATING_CLIENT_W_CITY      0.012158      0.288299      0.115374   \n",
       "REGION_RATING_CLIENT             0.012903      0.292895      0.115341   \n",
       "DAYS_LAST_PHONE_CHANGE           0.075256      0.195764      0.132607   \n",
       "DAYS_ID_PUBLISH                  0.131597      0.050955      0.132375   \n",
       "REG_CITY_NOT_WORK_CITY           0.079729      0.075970      0.185953   \n",
       "FLAG_EMP_PHONE                   0.115293      0.019459      0.294147   \n",
       "DAYS_EMPLOYED                    0.113434      0.020767      0.289848   \n",
       "REG_CITY_NOT_LIVE_CITY           0.078477      0.043266      0.141000   \n",
       "FLAG_DOCUMENT_3                  0.030696      0.030700      0.044797   \n",
       "FLOORSMAX_AVG                    0.003523      0.135863      0.093151   \n",
       "FLOORSMAX_MEDI                   0.003808      0.134612      0.092108   \n",
       "\n",
       "                             DAYS_BIRTH  REGION_RATING_CLIENT_W_CITY  \\\n",
       "EXT_SOURCE_3                   0.205478                     0.012158   \n",
       "EXT_SOURCE_2                   0.091996                     0.288299   \n",
       "EXT_SOURCE_1                   0.600610                     0.115374   \n",
       "DAYS_BIRTH                     1.000000                     0.008073   \n",
       "REGION_RATING_CLIENT_W_CITY    0.008073                     1.000000   \n",
       "REGION_RATING_CLIENT           0.009361                     0.950842   \n",
       "DAYS_LAST_PHONE_CHANGE         0.082939                     0.025717   \n",
       "DAYS_ID_PUBLISH                0.272691                     0.007737   \n",
       "REG_CITY_NOT_WORK_CITY         0.242401                     0.028081   \n",
       "FLAG_EMP_PHONE                 0.619888                     0.034712   \n",
       "DAYS_EMPLOYED                  0.615864                     0.034624   \n",
       "REG_CITY_NOT_LIVE_CITY         0.180382                     0.045669   \n",
       "FLAG_DOCUMENT_3                0.109666                     0.067083   \n",
       "FLOORSMAX_AVG                  0.001634                     0.251391   \n",
       "FLOORSMAX_MEDI                 0.001791                     0.247944   \n",
       "\n",
       "                             REGION_RATING_CLIENT  DAYS_LAST_PHONE_CHANGE  \\\n",
       "EXT_SOURCE_3                             0.012903                0.075256   \n",
       "EXT_SOURCE_2                             0.292895                0.195764   \n",
       "EXT_SOURCE_1                             0.115341                0.132607   \n",
       "DAYS_BIRTH                               0.009361                0.082939   \n",
       "REGION_RATING_CLIENT_W_CITY              0.950842                0.025717   \n",
       "REGION_RATING_CLIENT                     1.000000                0.026022   \n",
       "DAYS_LAST_PHONE_CHANGE                   0.026022                1.000000   \n",
       "DAYS_ID_PUBLISH                          0.005103                0.088576   \n",
       "REG_CITY_NOT_WORK_CITY                   0.008360                0.046788   \n",
       "FLAG_EMP_PHONE                           0.032871                0.021103   \n",
       "DAYS_EMPLOYED                            0.032750                0.023032   \n",
       "REG_CITY_NOT_LIVE_CITY                   0.035741                0.054183   \n",
       "FLAG_DOCUMENT_3                          0.062528                0.061760   \n",
       "FLOORSMAX_AVG                            0.234961                0.007130   \n",
       "FLOORSMAX_MEDI                           0.231517                0.007078   \n",
       "\n",
       "                             DAYS_ID_PUBLISH  REG_CITY_NOT_WORK_CITY  \\\n",
       "EXT_SOURCE_3                        0.131597                0.079729   \n",
       "EXT_SOURCE_2                        0.050955                0.075970   \n",
       "EXT_SOURCE_1                        0.132375                0.185953   \n",
       "DAYS_BIRTH                          0.272691                0.242401   \n",
       "REGION_RATING_CLIENT_W_CITY         0.007737                0.028081   \n",
       "REGION_RATING_CLIENT                0.005103                0.008360   \n",
       "DAYS_LAST_PHONE_CHANGE              0.088576                0.046788   \n",
       "DAYS_ID_PUBLISH                     1.000000                0.099354   \n",
       "REG_CITY_NOT_WORK_CITY              0.099354                1.000000   \n",
       "FLAG_EMP_PHONE                      0.273611                0.256427   \n",
       "DAYS_EMPLOYED                       0.272378                0.254559   \n",
       "REG_CITY_NOT_LIVE_CITY              0.076326                0.440409   \n",
       "FLAG_DOCUMENT_3                     0.050309                0.056275   \n",
       "FLOORSMAX_AVG                       0.010235                0.115932   \n",
       "FLOORSMAX_MEDI                      0.010307                0.114920   \n",
       "\n",
       "                             FLAG_EMP_PHONE  DAYS_EMPLOYED  \\\n",
       "EXT_SOURCE_3                       0.115293       0.113434   \n",
       "EXT_SOURCE_2                       0.019459       0.020767   \n",
       "EXT_SOURCE_1                       0.294147       0.289848   \n",
       "DAYS_BIRTH                         0.619888       0.615864   \n",
       "REGION_RATING_CLIENT_W_CITY        0.034712       0.034624   \n",
       "REGION_RATING_CLIENT               0.032871       0.032750   \n",
       "DAYS_LAST_PHONE_CHANGE             0.021103       0.023032   \n",
       "DAYS_ID_PUBLISH                    0.273611       0.272378   \n",
       "REG_CITY_NOT_WORK_CITY             0.256427       0.254559   \n",
       "FLAG_EMP_PHONE                     1.000000       0.999755   \n",
       "DAYS_EMPLOYED                      0.999755       1.000000   \n",
       "REG_CITY_NOT_LIVE_CITY             0.092166       0.090516   \n",
       "FLAG_DOCUMENT_3                    0.248534       0.249082   \n",
       "FLOORSMAX_AVG                      0.016048       0.015970   \n",
       "FLOORSMAX_MEDI                     0.016121       0.016051   \n",
       "\n",
       "                             REG_CITY_NOT_LIVE_CITY  FLAG_DOCUMENT_3  \\\n",
       "EXT_SOURCE_3                               0.078477         0.030696   \n",
       "EXT_SOURCE_2                               0.043266         0.030700   \n",
       "EXT_SOURCE_1                               0.141000         0.044797   \n",
       "DAYS_BIRTH                                 0.180382         0.109666   \n",
       "REGION_RATING_CLIENT_W_CITY                0.045669         0.067083   \n",
       "REGION_RATING_CLIENT                       0.035741         0.062528   \n",
       "DAYS_LAST_PHONE_CHANGE                     0.054183         0.061760   \n",
       "DAYS_ID_PUBLISH                            0.076326         0.050309   \n",
       "REG_CITY_NOT_WORK_CITY                     0.440409         0.056275   \n",
       "FLAG_EMP_PHONE                             0.092166         0.248534   \n",
       "DAYS_EMPLOYED                              0.090516         0.249082   \n",
       "REG_CITY_NOT_LIVE_CITY                     1.000000         0.003117   \n",
       "FLAG_DOCUMENT_3                            0.003117         1.000000   \n",
       "FLOORSMAX_AVG                              0.070172         0.077062   \n",
       "FLOORSMAX_MEDI                             0.069786         0.076210   \n",
       "\n",
       "                             FLOORSMAX_AVG  FLOORSMAX_MEDI  \n",
       "EXT_SOURCE_3                      0.003523        0.003808  \n",
       "EXT_SOURCE_2                      0.135863        0.134612  \n",
       "EXT_SOURCE_1                      0.093151        0.092108  \n",
       "DAYS_BIRTH                        0.001634        0.001791  \n",
       "REGION_RATING_CLIENT_W_CITY       0.251391        0.247944  \n",
       "REGION_RATING_CLIENT              0.234961        0.231517  \n",
       "DAYS_LAST_PHONE_CHANGE            0.007130        0.007078  \n",
       "DAYS_ID_PUBLISH                   0.010235        0.010307  \n",
       "REG_CITY_NOT_WORK_CITY            0.115932        0.114920  \n",
       "FLAG_EMP_PHONE                    0.016048        0.016121  \n",
       "DAYS_EMPLOYED                     0.015970        0.016051  \n",
       "REG_CITY_NOT_LIVE_CITY            0.070172        0.069786  \n",
       "FLAG_DOCUMENT_3                   0.077062        0.076210  \n",
       "FLOORSMAX_AVG                     1.000000        0.997034  \n",
       "FLOORSMAX_MEDI                    0.997034        1.000000  "
      ]
     },
     "execution_count": 126,
     "metadata": {},
     "output_type": "execute_result"
    }
   ],
   "source": [
    "corr_15 = df[corr_vars_15].corr().abs()\n",
    "corr_15"
   ]
  },
  {
   "cell_type": "code",
   "execution_count": 127,
   "metadata": {},
   "outputs": [
    {
     "data": {
      "image/png": "[encoded data removed]",
      "text/plain": [
       "<matplotlib.figure.Figure at 0x12239ecc0>"
      ]
     },
     "metadata": {},
     "output_type": "display_data"
    }
   ],
   "source": [
    "plt.figure(figsize=[8,8])\n",
    "sns.heatmap(corr_15);"
   ]
  },
  {
   "cell_type": "code",
   "execution_count": 114,
   "metadata": {},
   "outputs": [
    {
     "data": {
      "text/plain": [
       "['EXT_SOURCE_3',\n",
       " 'EXT_SOURCE_2',\n",
       " 'EXT_SOURCE_1',\n",
       " 'DAYS_EMPLOYED',\n",
       " 'FLOORSMAX_AVG',\n",
       " 'FLOORSMAX_MEDI',\n",
       " 'FLOORSMAX_MODE',\n",
       " 'AMT_GOODS_PRICE',\n",
       " 'REGION_POPULATION_RELATIVE',\n",
       " 'ELEVATORS_AVG',\n",
       " 'ELEVATORS_MEDI',\n",
       " 'FLOORSMIN_AVG',\n",
       " 'FLOORSMIN_MEDI',\n",
       " 'LIVINGAREA_AVG',\n",
       " 'LIVINGAREA_MEDI']"
      ]
     },
     "execution_count": 114,
     "metadata": {},
     "output_type": "execute_result"
    }
   ],
   "source": [
    "numerical_vars = [\n",
    " 'EXT_SOURCE_3',\n",
    " 'EXT_SOURCE_2',\n",
    " 'EXT_SOURCE_1',\n",
    " 'DAYS_BIRTH',\n",
    " 'REGION_RATING_CLIENT_W_CITY',\n",
    " 'DAYS_LAST_PHONE_CHANGE',\n",
    " 'DAYS_ID_PUBLISH',\n",
    " 'REG_CITY_NOT_WORK_CITY',\n",
    " 'FLAG_EMP_PHONE',\n",
    " 'REG_CITY_NOT_LIVE_CITY',\n",
    " 'FLAG_DOCUMENT_3',\n",
    " 'FLOORSMAX_AVG']\n",
    "\n",
    "categorical_vars = \n",
    "'NAME_EDUCATION_TYPE',\n",
    "'NAME_INCOME_TYPE',\n",
    "'whether 4 or more kids']"
   ]
  },
  {
   "cell_type": "code",
   "execution_count": 115,
   "metadata": {},
   "outputs": [
    {
     "data": {
      "text/plain": [
       "['NAME_CONTRACT_TYPE',\n",
       " 'CODE_GENDER',\n",
       " 'FLAG_OWN_CAR',\n",
       " 'FLAG_OWN_REALTY',\n",
       " 'NAME_TYPE_SUITE',\n",
       " 'NAME_INCOME_TYPE',\n",
       " 'NAME_EDUCATION_TYPE',\n",
       " 'NAME_FAMILY_STATUS',\n",
       " 'NAME_HOUSING_TYPE',\n",
       " 'OCCUPATION_TYPE',\n",
       " 'WEEKDAY_APPR_PROCESS_START',\n",
       " 'ORGANIZATION_TYPE',\n",
       " 'FONDKAPREMONT_MODE',\n",
       " 'HOUSETYPE_MODE',\n",
       " 'WALLSMATERIAL_MODE',\n",
       " 'EMERGENCYSTATE_MODE']"
      ]
     },
     "execution_count": 115,
     "metadata": {},
     "output_type": "execute_result"
    }
   ],
   "source": [
    "cols_str"
   ]
  },
  {
   "cell_type": "code",
   "execution_count": 129,
   "metadata": {},
   "outputs": [
    {
     "data": {
      "text/plain": [
       "array(['Single / not married', 'Married', 'Civil marriage', 'Widow',\n",
       "       'Separated', 'Unknown'], dtype=object)"
      ]
     },
     "execution_count": 129,
     "metadata": {},
     "output_type": "execute_result"
    }
   ],
   "source": [
    "df['NAME_FAMILY_STATUS'].unique()"
   ]
  },
  {
   "cell_type": "code",
   "execution_count": null,
   "metadata": {},
   "outputs": [],
   "source": []
  }
 ],
 "metadata": {
  "kernelspec": {
   "display_name": "Python 3",
   "language": "python",
   "name": "python3"
  },
  "language_info": {
   "codemirror_mode": {
    "name": "ipython",
    "version": 3
   },
   "file_extension": ".py",
   "mimetype": "text/x-python",
   "name": "python",
   "nbconvert_exporter": "python",
   "pygments_lexer": "ipython3",
   "version": "3.6.4"
  }
 },
 "nbformat": 4,
 "nbformat_minor": 2
}

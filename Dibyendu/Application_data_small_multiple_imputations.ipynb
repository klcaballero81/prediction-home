{
 "cells": [
  {
   "cell_type": "markdown",
   "metadata": {},
   "source": [
    "Load data"
   ]
  },
  {
   "cell_type": "code",
   "execution_count": 26,
   "metadata": {},
   "outputs": [],
   "source": [
    "import pandas as pd"
   ]
  },
  {
   "cell_type": "code",
   "execution_count": 27,
   "metadata": {},
   "outputs": [
    {
     "data": {
      "text/html": [
       "<div>\n",
       "<style scoped>\n",
       "    .dataframe tbody tr th:only-of-type {\n",
       "        vertical-align: middle;\n",
       "    }\n",
       "\n",
       "    .dataframe tbody tr th {\n",
       "        vertical-align: top;\n",
       "    }\n",
       "\n",
       "    .dataframe thead th {\n",
       "        text-align: right;\n",
       "    }\n",
       "</style>\n",
       "<table border=\"1\" class=\"dataframe\">\n",
       "  <thead>\n",
       "    <tr style=\"text-align: right;\">\n",
       "      <th></th>\n",
       "      <th>SK_ID_CURR</th>\n",
       "      <th>TARGET</th>\n",
       "      <th>NAME_CONTRACT_TYPE</th>\n",
       "      <th>CODE_GENDER</th>\n",
       "      <th>FLAG_OWN_CAR</th>\n",
       "      <th>FLAG_OWN_REALTY</th>\n",
       "      <th>CNT_CHILDREN</th>\n",
       "      <th>AMT_INCOME_TOTAL</th>\n",
       "      <th>AMT_CREDIT</th>\n",
       "      <th>AMT_ANNUITY</th>\n",
       "      <th>...</th>\n",
       "      <th>FLAG_DOCUMENT_18</th>\n",
       "      <th>FLAG_DOCUMENT_19</th>\n",
       "      <th>FLAG_DOCUMENT_20</th>\n",
       "      <th>FLAG_DOCUMENT_21</th>\n",
       "      <th>AMT_REQ_CREDIT_BUREAU_HOUR</th>\n",
       "      <th>AMT_REQ_CREDIT_BUREAU_DAY</th>\n",
       "      <th>AMT_REQ_CREDIT_BUREAU_WEEK</th>\n",
       "      <th>AMT_REQ_CREDIT_BUREAU_MON</th>\n",
       "      <th>AMT_REQ_CREDIT_BUREAU_QRT</th>\n",
       "      <th>AMT_REQ_CREDIT_BUREAU_YEAR</th>\n",
       "    </tr>\n",
       "  </thead>\n",
       "  <tbody>\n",
       "    <tr>\n",
       "      <th>15482</th>\n",
       "      <td>118070</td>\n",
       "      <td>0</td>\n",
       "      <td>Cash loans</td>\n",
       "      <td>F</td>\n",
       "      <td>N</td>\n",
       "      <td>Y</td>\n",
       "      <td>0</td>\n",
       "      <td>157500.0</td>\n",
       "      <td>1067418.0</td>\n",
       "      <td>31338.0</td>\n",
       "      <td>...</td>\n",
       "      <td>0</td>\n",
       "      <td>0</td>\n",
       "      <td>0</td>\n",
       "      <td>0</td>\n",
       "      <td>NaN</td>\n",
       "      <td>NaN</td>\n",
       "      <td>NaN</td>\n",
       "      <td>NaN</td>\n",
       "      <td>NaN</td>\n",
       "      <td>NaN</td>\n",
       "    </tr>\n",
       "  </tbody>\n",
       "</table>\n",
       "<p>1 rows × 122 columns</p>\n",
       "</div>"
      ],
      "text/plain": [
       "       SK_ID_CURR  TARGET NAME_CONTRACT_TYPE CODE_GENDER FLAG_OWN_CAR  \\\n",
       "15482      118070       0         Cash loans           F            N   \n",
       "\n",
       "      FLAG_OWN_REALTY  CNT_CHILDREN  AMT_INCOME_TOTAL  AMT_CREDIT  \\\n",
       "15482               Y             0          157500.0   1067418.0   \n",
       "\n",
       "       AMT_ANNUITY             ...              FLAG_DOCUMENT_18  \\\n",
       "15482      31338.0             ...                             0   \n",
       "\n",
       "      FLAG_DOCUMENT_19 FLAG_DOCUMENT_20 FLAG_DOCUMENT_21  \\\n",
       "15482                0                0                0   \n",
       "\n",
       "      AMT_REQ_CREDIT_BUREAU_HOUR AMT_REQ_CREDIT_BUREAU_DAY  \\\n",
       "15482                        NaN                       NaN   \n",
       "\n",
       "       AMT_REQ_CREDIT_BUREAU_WEEK  AMT_REQ_CREDIT_BUREAU_MON  \\\n",
       "15482                         NaN                        NaN   \n",
       "\n",
       "       AMT_REQ_CREDIT_BUREAU_QRT  AMT_REQ_CREDIT_BUREAU_YEAR  \n",
       "15482                        NaN                         NaN  \n",
       "\n",
       "[1 rows x 122 columns]"
      ]
     },
     "execution_count": 27,
     "metadata": {},
     "output_type": "execute_result"
    }
   ],
   "source": [
    "data = pd.read_csv('application_train.csv')\n",
    "data.sample()"
   ]
  },
  {
   "cell_type": "code",
   "execution_count": 28,
   "metadata": {},
   "outputs": [
    {
     "data": {
      "text/plain": [
       "(307511, 122)"
      ]
     },
     "execution_count": 28,
     "metadata": {},
     "output_type": "execute_result"
    }
   ],
   "source": [
    "data.shape"
   ]
  },
  {
   "cell_type": "code",
   "execution_count": 29,
   "metadata": {},
   "outputs": [],
   "source": [
    "import fancyimpute"
   ]
  },
  {
   "cell_type": "markdown",
   "metadata": {},
   "source": [
    "## Preprocessing"
   ]
  },
  {
   "cell_type": "markdown",
   "metadata": {},
   "source": [
    "Make a copy so that we can always go back to the original data.  "
   ]
  },
  {
   "cell_type": "code",
   "execution_count": 30,
   "metadata": {},
   "outputs": [
    {
     "data": {
      "text/html": [
       "<div>\n",
       "<style scoped>\n",
       "    .dataframe tbody tr th:only-of-type {\n",
       "        vertical-align: middle;\n",
       "    }\n",
       "\n",
       "    .dataframe tbody tr th {\n",
       "        vertical-align: top;\n",
       "    }\n",
       "\n",
       "    .dataframe thead th {\n",
       "        text-align: right;\n",
       "    }\n",
       "</style>\n",
       "<table border=\"1\" class=\"dataframe\">\n",
       "  <thead>\n",
       "    <tr style=\"text-align: right;\">\n",
       "      <th></th>\n",
       "      <th>sk_id_curr</th>\n",
       "      <th>target</th>\n",
       "      <th>name_contract_type</th>\n",
       "      <th>code_gender</th>\n",
       "      <th>flag_own_car</th>\n",
       "      <th>flag_own_realty</th>\n",
       "      <th>cnt_children</th>\n",
       "      <th>amt_income_total</th>\n",
       "      <th>amt_credit</th>\n",
       "      <th>amt_annuity</th>\n",
       "      <th>...</th>\n",
       "      <th>flag_document_18</th>\n",
       "      <th>flag_document_19</th>\n",
       "      <th>flag_document_20</th>\n",
       "      <th>flag_document_21</th>\n",
       "      <th>amt_req_credit_bureau_hour</th>\n",
       "      <th>amt_req_credit_bureau_day</th>\n",
       "      <th>amt_req_credit_bureau_week</th>\n",
       "      <th>amt_req_credit_bureau_mon</th>\n",
       "      <th>amt_req_credit_bureau_qrt</th>\n",
       "      <th>amt_req_credit_bureau_year</th>\n",
       "    </tr>\n",
       "  </thead>\n",
       "  <tbody>\n",
       "    <tr>\n",
       "      <th>74033</th>\n",
       "      <td>185852</td>\n",
       "      <td>0</td>\n",
       "      <td>Revolving loans</td>\n",
       "      <td>F</td>\n",
       "      <td>Y</td>\n",
       "      <td>Y</td>\n",
       "      <td>0</td>\n",
       "      <td>85500.0</td>\n",
       "      <td>180000.0</td>\n",
       "      <td>9000.0</td>\n",
       "      <td>...</td>\n",
       "      <td>0</td>\n",
       "      <td>0</td>\n",
       "      <td>0</td>\n",
       "      <td>0</td>\n",
       "      <td>0.0</td>\n",
       "      <td>0.0</td>\n",
       "      <td>0.0</td>\n",
       "      <td>0.0</td>\n",
       "      <td>0.0</td>\n",
       "      <td>1.0</td>\n",
       "    </tr>\n",
       "  </tbody>\n",
       "</table>\n",
       "<p>1 rows × 122 columns</p>\n",
       "</div>"
      ],
      "text/plain": [
       "       sk_id_curr  target name_contract_type code_gender flag_own_car  \\\n",
       "74033      185852       0    Revolving loans           F            Y   \n",
       "\n",
       "      flag_own_realty  cnt_children  amt_income_total  amt_credit  \\\n",
       "74033               Y             0           85500.0    180000.0   \n",
       "\n",
       "       amt_annuity             ...              flag_document_18  \\\n",
       "74033       9000.0             ...                             0   \n",
       "\n",
       "      flag_document_19 flag_document_20 flag_document_21  \\\n",
       "74033                0                0                0   \n",
       "\n",
       "      amt_req_credit_bureau_hour amt_req_credit_bureau_day  \\\n",
       "74033                        0.0                       0.0   \n",
       "\n",
       "       amt_req_credit_bureau_week  amt_req_credit_bureau_mon  \\\n",
       "74033                         0.0                        0.0   \n",
       "\n",
       "       amt_req_credit_bureau_qrt  amt_req_credit_bureau_year  \n",
       "74033                        0.0                         1.0  \n",
       "\n",
       "[1 rows x 122 columns]"
      ]
     },
     "execution_count": 30,
     "metadata": {},
     "output_type": "execute_result"
    }
   ],
   "source": [
    "df = data.copy()\n",
    "df = df.rename(columns=lambda x: x.lower())\n",
    "df.sample()"
   ]
  },
  {
   "cell_type": "markdown",
   "metadata": {},
   "source": [
    "We decided to keep only those few columns that are strongly correlated with the target.  We had decided on the following features/columns.  "
   ]
  },
  {
   "cell_type": "code",
   "execution_count": 31,
   "metadata": {},
   "outputs": [],
   "source": [
    "col_num = ['ext_source_3',\n",
    "           'ext_source_2',\n",
    "           'ext_source_1',\n",
    "           'days_birth',\n",
    "           'region_rating_client_w_city',\n",
    "           'days_last_phone_change',\n",
    "           'days_id_publish',\n",
    "           'reg_city_not_work_city',\n",
    "           'flag_emp_phone',\n",
    "           'reg_city_not_live_city',\n",
    "           'flag_document_3',\n",
    "           'floorsmax_avg'\n",
    "          ]\n",
    "\n",
    "col_cat = ['name_education_type',\n",
    "           'name_income_type']"
   ]
  },
  {
   "cell_type": "markdown",
   "metadata": {},
   "source": [
    "Ensure that the column names are spelled correctly.  "
   ]
  },
  {
   "cell_type": "markdown",
   "metadata": {},
   "source": [
    "continuous"
   ]
  },
  {
   "cell_type": "code",
   "execution_count": 32,
   "metadata": {},
   "outputs": [
    {
     "data": {
      "text/plain": [
       "True"
      ]
     },
     "execution_count": 32,
     "metadata": {},
     "output_type": "execute_result"
    }
   ],
   "source": [
    "sum(col in df.columns for col in col_num) == len(col_num)"
   ]
  },
  {
   "cell_type": "markdown",
   "metadata": {},
   "source": [
    "discrete"
   ]
  },
  {
   "cell_type": "code",
   "execution_count": 33,
   "metadata": {},
   "outputs": [
    {
     "data": {
      "text/plain": [
       "True"
      ]
     },
     "execution_count": 33,
     "metadata": {},
     "output_type": "execute_result"
    }
   ],
   "source": [
    "sum(col in df.columns for col in col_cat) == len(col_cat)"
   ]
  },
  {
   "cell_type": "markdown",
   "metadata": {},
   "source": [
    "And these are all we need ... for now.  "
   ]
  },
  {
   "cell_type": "code",
   "execution_count": 34,
   "metadata": {},
   "outputs": [
    {
     "data": {
      "text/plain": [
       "15"
      ]
     },
     "execution_count": 34,
     "metadata": {},
     "output_type": "execute_result"
    }
   ],
   "source": [
    "cols = col_num + col_cat + ['target']\n",
    "len(cols)"
   ]
  },
  {
   "cell_type": "code",
   "execution_count": 35,
   "metadata": {},
   "outputs": [
    {
     "data": {
      "text/html": [
       "<div>\n",
       "<style scoped>\n",
       "    .dataframe tbody tr th:only-of-type {\n",
       "        vertical-align: middle;\n",
       "    }\n",
       "\n",
       "    .dataframe tbody tr th {\n",
       "        vertical-align: top;\n",
       "    }\n",
       "\n",
       "    .dataframe thead th {\n",
       "        text-align: right;\n",
       "    }\n",
       "</style>\n",
       "<table border=\"1\" class=\"dataframe\">\n",
       "  <thead>\n",
       "    <tr style=\"text-align: right;\">\n",
       "      <th></th>\n",
       "      <th>ext_source_3</th>\n",
       "      <th>ext_source_2</th>\n",
       "      <th>ext_source_1</th>\n",
       "      <th>days_birth</th>\n",
       "      <th>region_rating_client_w_city</th>\n",
       "      <th>days_last_phone_change</th>\n",
       "      <th>days_id_publish</th>\n",
       "      <th>reg_city_not_work_city</th>\n",
       "      <th>flag_emp_phone</th>\n",
       "      <th>reg_city_not_live_city</th>\n",
       "      <th>flag_document_3</th>\n",
       "      <th>floorsmax_avg</th>\n",
       "      <th>name_education_type</th>\n",
       "      <th>name_income_type</th>\n",
       "      <th>target</th>\n",
       "    </tr>\n",
       "  </thead>\n",
       "  <tbody>\n",
       "    <tr>\n",
       "      <th>253499</th>\n",
       "      <td>0.722393</td>\n",
       "      <td>0.558906</td>\n",
       "      <td>0.552615</td>\n",
       "      <td>-13643</td>\n",
       "      <td>2</td>\n",
       "      <td>-1072.0</td>\n",
       "      <td>-3128</td>\n",
       "      <td>1</td>\n",
       "      <td>1</td>\n",
       "      <td>0</td>\n",
       "      <td>1</td>\n",
       "      <td>0.0417</td>\n",
       "      <td>Secondary / secondary special</td>\n",
       "      <td>Working</td>\n",
       "      <td>0</td>\n",
       "    </tr>\n",
       "  </tbody>\n",
       "</table>\n",
       "</div>"
      ],
      "text/plain": [
       "        ext_source_3  ext_source_2  ext_source_1  days_birth  \\\n",
       "253499      0.722393      0.558906      0.552615      -13643   \n",
       "\n",
       "        region_rating_client_w_city  days_last_phone_change  days_id_publish  \\\n",
       "253499                            2                 -1072.0            -3128   \n",
       "\n",
       "        reg_city_not_work_city  flag_emp_phone  reg_city_not_live_city  \\\n",
       "253499                       1               1                       0   \n",
       "\n",
       "        flag_document_3  floorsmax_avg            name_education_type  \\\n",
       "253499                1         0.0417  Secondary / secondary special   \n",
       "\n",
       "       name_income_type  target  \n",
       "253499          Working       0  "
      ]
     },
     "execution_count": 35,
     "metadata": {},
     "output_type": "execute_result"
    }
   ],
   "source": [
    "df = df[cols]\n",
    "df.sample()"
   ]
  },
  {
   "cell_type": "code",
   "execution_count": 36,
   "metadata": {},
   "outputs": [
    {
     "name": "stdout",
     "output_type": "stream",
     "text": [
      "<class 'pandas.core.frame.DataFrame'>\n",
      "RangeIndex: 307511 entries, 0 to 307510\n",
      "Data columns (total 15 columns):\n",
      "ext_source_3                   246546 non-null float64\n",
      "ext_source_2                   306851 non-null float64\n",
      "ext_source_1                   134133 non-null float64\n",
      "days_birth                     307511 non-null int64\n",
      "region_rating_client_w_city    307511 non-null int64\n",
      "days_last_phone_change         307510 non-null float64\n",
      "days_id_publish                307511 non-null int64\n",
      "reg_city_not_work_city         307511 non-null int64\n",
      "flag_emp_phone                 307511 non-null int64\n",
      "reg_city_not_live_city         307511 non-null int64\n",
      "flag_document_3                307511 non-null int64\n",
      "floorsmax_avg                  154491 non-null float64\n",
      "name_education_type            307511 non-null object\n",
      "name_income_type               307511 non-null object\n",
      "target                         307511 non-null int64\n",
      "dtypes: float64(5), int64(8), object(2)\n",
      "memory usage: 35.2+ MB\n"
     ]
    }
   ],
   "source": [
    "df.info()"
   ]
  },
  {
   "cell_type": "markdown",
   "metadata": {},
   "source": [
    "Looks like some of the columns have missing values.  (We already knew this!)  Let's just collect the names in a list and then analyze.  "
   ]
  },
  {
   "cell_type": "markdown",
   "metadata": {},
   "source": [
    "### Imputating missing values"
   ]
  },
  {
   "cell_type": "code",
   "execution_count": 37,
   "metadata": {},
   "outputs": [
    {
     "data": {
      "text/plain": [
       "5"
      ]
     },
     "execution_count": 37,
     "metadata": {},
     "output_type": "execute_result"
    }
   ],
   "source": [
    "has_null = [col for col in df.columns \n",
    "            if sum(df[col].isnull())]\n",
    "\n",
    "len(has_null)"
   ]
  },
  {
   "cell_type": "code",
   "execution_count": 38,
   "metadata": {},
   "outputs": [
    {
     "name": "stdout",
     "output_type": "stream",
     "text": [
      "<class 'pandas.core.frame.DataFrame'>\n",
      "RangeIndex: 307511 entries, 0 to 307510\n",
      "Data columns (total 5 columns):\n",
      "ext_source_3              246546 non-null float64\n",
      "ext_source_2              306851 non-null float64\n",
      "ext_source_1              134133 non-null float64\n",
      "days_last_phone_change    307510 non-null float64\n",
      "floorsmax_avg             154491 non-null float64\n",
      "dtypes: float64(5)\n",
      "memory usage: 11.7 MB\n"
     ]
    }
   ],
   "source": [
    "df[has_null].info()"
   ]
  },
  {
   "cell_type": "markdown",
   "metadata": {},
   "source": [
    "#### Categorical"
   ]
  },
  {
   "cell_type": "markdown",
   "metadata": {},
   "source": [
    "There are no categorical variables with missing input.  "
   ]
  },
  {
   "cell_type": "markdown",
   "metadata": {},
   "source": [
    "#### Numerical/Discrete"
   ]
  },
  {
   "cell_type": "markdown",
   "metadata": {},
   "source": [
    "There are no discrete variables with missing input.  "
   ]
  },
  {
   "cell_type": "markdown",
   "metadata": {},
   "source": [
    "#### Numerical/Continuous"
   ]
  },
  {
   "cell_type": "code",
   "execution_count": 39,
   "metadata": {},
   "outputs": [
    {
     "name": "stdout",
     "output_type": "stream",
     "text": [
      "<class 'pandas.core.frame.DataFrame'>\n",
      "RangeIndex: 307511 entries, 0 to 307510\n",
      "Data columns (total 5 columns):\n",
      "ext_source_3              246546 non-null float64\n",
      "ext_source_2              306851 non-null float64\n",
      "ext_source_1              134133 non-null float64\n",
      "days_last_phone_change    307510 non-null float64\n",
      "floorsmax_avg             154491 non-null float64\n",
      "dtypes: float64(5)\n",
      "memory usage: 11.7 MB\n"
     ]
    }
   ],
   "source": [
    "df[has_null].info()"
   ]
  },
  {
   "cell_type": "markdown",
   "metadata": {},
   "source": [
    "Let's just drop the row with missing days_last_phone_change.  "
   ]
  },
  {
   "cell_type": "code",
   "execution_count": 40,
   "metadata": {},
   "outputs": [
    {
     "data": {
      "text/plain": [
       "15709"
      ]
     },
     "execution_count": 40,
     "metadata": {},
     "output_type": "execute_result"
    }
   ],
   "source": [
    "index = df.index[df['days_last_phone_change'].isnull()].tolist()[0]\n",
    "index"
   ]
  },
  {
   "cell_type": "code",
   "execution_count": 41,
   "metadata": {},
   "outputs": [],
   "source": [
    "df.drop(index=index, inplace=True)"
   ]
  },
  {
   "cell_type": "code",
   "execution_count": 42,
   "metadata": {},
   "outputs": [
    {
     "data": {
      "text/plain": [
       "True"
      ]
     },
     "execution_count": 42,
     "metadata": {},
     "output_type": "execute_result"
    }
   ],
   "source": [
    "sum(df['days_last_phone_change'].isnull()) == 0"
   ]
  },
  {
   "cell_type": "markdown",
   "metadata": {},
   "source": [
    "We have to encode the categorical columns before we can use (fancy) multiple imputation techniques.  "
   ]
  },
  {
   "cell_type": "code",
   "execution_count": 43,
   "metadata": {},
   "outputs": [
    {
     "data": {
      "text/plain": [
       "['name_education_type', 'name_income_type']"
      ]
     },
     "execution_count": 43,
     "metadata": {},
     "output_type": "execute_result"
    }
   ],
   "source": [
    "col_cat = [col for col in df.columns if df[col].dtype == 'object']\n",
    "col_cat"
   ]
  },
  {
   "cell_type": "code",
   "execution_count": 44,
   "metadata": {
    "scrolled": true
   },
   "outputs": [
    {
     "data": {
      "text/html": [
       "<div>\n",
       "<style scoped>\n",
       "    .dataframe tbody tr th:only-of-type {\n",
       "        vertical-align: middle;\n",
       "    }\n",
       "\n",
       "    .dataframe tbody tr th {\n",
       "        vertical-align: top;\n",
       "    }\n",
       "\n",
       "    .dataframe thead th {\n",
       "        text-align: right;\n",
       "    }\n",
       "</style>\n",
       "<table border=\"1\" class=\"dataframe\">\n",
       "  <thead>\n",
       "    <tr style=\"text-align: right;\">\n",
       "      <th></th>\n",
       "      <th>ext_source_3</th>\n",
       "      <th>ext_source_2</th>\n",
       "      <th>ext_source_1</th>\n",
       "      <th>days_birth</th>\n",
       "      <th>region_rating_client_w_city</th>\n",
       "      <th>days_last_phone_change</th>\n",
       "      <th>days_id_publish</th>\n",
       "      <th>reg_city_not_work_city</th>\n",
       "      <th>flag_emp_phone</th>\n",
       "      <th>reg_city_not_live_city</th>\n",
       "      <th>...</th>\n",
       "      <th>name_education_type__Incomplete higher</th>\n",
       "      <th>name_education_type__Lower secondary</th>\n",
       "      <th>name_education_type__Secondary / secondary special</th>\n",
       "      <th>name_income_type__Commercial associate</th>\n",
       "      <th>name_income_type__Maternity leave</th>\n",
       "      <th>name_income_type__Pensioner</th>\n",
       "      <th>name_income_type__State servant</th>\n",
       "      <th>name_income_type__Student</th>\n",
       "      <th>name_income_type__Unemployed</th>\n",
       "      <th>name_income_type__Working</th>\n",
       "    </tr>\n",
       "  </thead>\n",
       "  <tbody>\n",
       "    <tr>\n",
       "      <th>222434</th>\n",
       "      <td>NaN</td>\n",
       "      <td>0.646414</td>\n",
       "      <td>NaN</td>\n",
       "      <td>-11958</td>\n",
       "      <td>2</td>\n",
       "      <td>-577.0</td>\n",
       "      <td>-2193</td>\n",
       "      <td>0</td>\n",
       "      <td>1</td>\n",
       "      <td>0</td>\n",
       "      <td>...</td>\n",
       "      <td>0</td>\n",
       "      <td>0</td>\n",
       "      <td>1</td>\n",
       "      <td>0</td>\n",
       "      <td>0</td>\n",
       "      <td>0</td>\n",
       "      <td>1</td>\n",
       "      <td>0</td>\n",
       "      <td>0</td>\n",
       "      <td>0</td>\n",
       "    </tr>\n",
       "  </tbody>\n",
       "</table>\n",
       "<p>1 rows × 26 columns</p>\n",
       "</div>"
      ],
      "text/plain": [
       "        ext_source_3  ext_source_2  ext_source_1  days_birth  \\\n",
       "222434           NaN      0.646414           NaN      -11958   \n",
       "\n",
       "        region_rating_client_w_city  days_last_phone_change  days_id_publish  \\\n",
       "222434                            2                  -577.0            -2193   \n",
       "\n",
       "        reg_city_not_work_city  flag_emp_phone  reg_city_not_live_city  \\\n",
       "222434                       0               1                       0   \n",
       "\n",
       "                  ...              name_education_type__Incomplete higher  \\\n",
       "222434            ...                                                   0   \n",
       "\n",
       "        name_education_type__Lower secondary  \\\n",
       "222434                                     0   \n",
       "\n",
       "       name_education_type__Secondary / secondary special  \\\n",
       "222434                                                  1   \n",
       "\n",
       "       name_income_type__Commercial associate  \\\n",
       "222434                                      0   \n",
       "\n",
       "        name_income_type__Maternity leave  name_income_type__Pensioner  \\\n",
       "222434                                  0                            0   \n",
       "\n",
       "        name_income_type__State servant  name_income_type__Student  \\\n",
       "222434                                1                          0   \n",
       "\n",
       "        name_income_type__Unemployed  name_income_type__Working  \n",
       "222434                             0                          0  \n",
       "\n",
       "[1 rows x 26 columns]"
      ]
     },
     "execution_count": 44,
     "metadata": {},
     "output_type": "execute_result"
    }
   ],
   "source": [
    "for col in col_cat:\n",
    "    dummy = pd.get_dummies(df[col], prefix=col+'_', drop_first=True)\n",
    "    df = df.join(dummy)\n",
    "    \n",
    "df.sample()"
   ]
  },
  {
   "cell_type": "markdown",
   "metadata": {},
   "source": [
    "Now drop the categorical columns.  "
   ]
  },
  {
   "cell_type": "code",
   "execution_count": 45,
   "metadata": {},
   "outputs": [
    {
     "name": "stdout",
     "output_type": "stream",
     "text": [
      "<class 'pandas.core.frame.DataFrame'>\n",
      "Int64Index: 307510 entries, 0 to 307510\n",
      "Data columns (total 24 columns):\n",
      "ext_source_3                                          246546 non-null float64\n",
      "ext_source_2                                          306851 non-null float64\n",
      "ext_source_1                                          134133 non-null float64\n",
      "days_birth                                            307510 non-null int64\n",
      "region_rating_client_w_city                           307510 non-null int64\n",
      "days_last_phone_change                                307510 non-null float64\n",
      "days_id_publish                                       307510 non-null int64\n",
      "reg_city_not_work_city                                307510 non-null int64\n",
      "flag_emp_phone                                        307510 non-null int64\n",
      "reg_city_not_live_city                                307510 non-null int64\n",
      "flag_document_3                                       307510 non-null int64\n",
      "floorsmax_avg                                         154490 non-null float64\n",
      "target                                                307510 non-null int64\n",
      "name_education_type__Higher education                 307510 non-null uint8\n",
      "name_education_type__Incomplete higher                307510 non-null uint8\n",
      "name_education_type__Lower secondary                  307510 non-null uint8\n",
      "name_education_type__Secondary / secondary special    307510 non-null uint8\n",
      "name_income_type__Commercial associate                307510 non-null uint8\n",
      "name_income_type__Maternity leave                     307510 non-null uint8\n",
      "name_income_type__Pensioner                           307510 non-null uint8\n",
      "name_income_type__State servant                       307510 non-null uint8\n",
      "name_income_type__Student                             307510 non-null uint8\n",
      "name_income_type__Unemployed                          307510 non-null uint8\n",
      "name_income_type__Working                             307510 non-null uint8\n",
      "dtypes: float64(5), int64(8), uint8(11)\n",
      "memory usage: 46.1 MB\n"
     ]
    }
   ],
   "source": [
    "df = df.drop(col_cat, axis=1)\n",
    "# df.info()"
   ]
  },
  {
   "cell_type": "code",
   "execution_count": 22,
   "metadata": {},
   "outputs": [],
   "source": [
    "# Use 3 nearest rows which have a feature to fill in each row's missing features\n",
    "# X_filled_knn = KNN(k=3).complete(X_incomplete)\n",
    "\n",
    "# matrix completion using convex optimization to find low-rank solution\n",
    "# that still matches observed values. Slow!\n",
    "# X_filled_nnm = NuclearNormMinimization().complete(X_incomplete)\n",
    "\n",
    "# Instead of solving the nuclear norm objective directly, instead\n",
    "# induce sparsity using singular value thresholding\n",
    "# X_filled_softimpute = SoftImpute().complete(X_incomplete_normalized)\n",
    "\n",
    "# Multiple Imputation by Chained Equations\n",
    "# fancyimpute.MICE().complete(data matrix)\n",
    "\n",
    "# print mean squared error for the three imputation methods above\n",
    "# nnm_mse = ((X_filled_nnm[missing_mask] - X[missing_mask]) ** 2).mean()\n",
    "# print(\"Nuclear norm minimization MSE: %f\" % nnm_mse)\n",
    "\n",
    "# softImpute_mse = ((X_filled_softimpute[missing_mask] - X[missing_mask]) ** 2).mean()\n",
    "# print(\"SoftImpute MSE: %f\" % softImpute_mse)\n",
    "\n",
    "# knn_mse = ((X_filled_knn[missing_mask] - X[missing_mask]) ** 2).mean()\n",
    "# print(\"knnImpute MSE: %f\" % knn_mse)"
   ]
  },
  {
   "cell_type": "code",
   "execution_count": 23,
   "metadata": {
    "scrolled": true
   },
   "outputs": [
    {
     "name": "stdout",
     "output_type": "stream",
     "text": [
      "[MICE] Completing matrix with shape (307510, 24)\n",
      "[MICE] Starting imputation round 1/110, elapsed time 0.114\n",
      "[MICE] Starting imputation round 2/110, elapsed time 1.616\n",
      "[MICE] Starting imputation round 3/110, elapsed time 2.480\n",
      "[MICE] Starting imputation round 4/110, elapsed time 3.322\n",
      "[MICE] Starting imputation round 5/110, elapsed time 4.046\n",
      "[MICE] Starting imputation round 6/110, elapsed time 4.778\n",
      "[MICE] Starting imputation round 7/110, elapsed time 5.454\n",
      "[MICE] Starting imputation round 8/110, elapsed time 6.227\n",
      "[MICE] Starting imputation round 9/110, elapsed time 7.013\n",
      "[MICE] Starting imputation round 10/110, elapsed time 7.739\n",
      "[MICE] Starting imputation round 11/110, elapsed time 8.608\n",
      "[MICE] Starting imputation round 12/110, elapsed time 9.543\n",
      "[MICE] Starting imputation round 13/110, elapsed time 10.718\n",
      "[MICE] Starting imputation round 14/110, elapsed time 11.599\n",
      "[MICE] Starting imputation round 15/110, elapsed time 12.374\n",
      "[MICE] Starting imputation round 16/110, elapsed time 13.101\n",
      "[MICE] Starting imputation round 17/110, elapsed time 14.059\n",
      "[MICE] Starting imputation round 18/110, elapsed time 14.838\n",
      "[MICE] Starting imputation round 19/110, elapsed time 15.571\n",
      "[MICE] Starting imputation round 20/110, elapsed time 16.410\n",
      "[MICE] Starting imputation round 21/110, elapsed time 17.284\n",
      "[MICE] Starting imputation round 22/110, elapsed time 18.080\n",
      "[MICE] Starting imputation round 23/110, elapsed time 18.889\n",
      "[MICE] Starting imputation round 24/110, elapsed time 19.683\n",
      "[MICE] Starting imputation round 25/110, elapsed time 20.454\n",
      "[MICE] Starting imputation round 26/110, elapsed time 21.159\n",
      "[MICE] Starting imputation round 27/110, elapsed time 21.940\n",
      "[MICE] Starting imputation round 28/110, elapsed time 22.711\n",
      "[MICE] Starting imputation round 29/110, elapsed time 23.489\n",
      "[MICE] Starting imputation round 30/110, elapsed time 24.220\n",
      "[MICE] Starting imputation round 31/110, elapsed time 24.965\n",
      "[MICE] Starting imputation round 32/110, elapsed time 25.691\n",
      "[MICE] Starting imputation round 33/110, elapsed time 26.388\n",
      "[MICE] Starting imputation round 34/110, elapsed time 27.089\n",
      "[MICE] Starting imputation round 35/110, elapsed time 27.776\n",
      "[MICE] Starting imputation round 36/110, elapsed time 28.468\n",
      "[MICE] Starting imputation round 37/110, elapsed time 29.156\n",
      "[MICE] Starting imputation round 38/110, elapsed time 29.842\n",
      "[MICE] Starting imputation round 39/110, elapsed time 30.525\n",
      "[MICE] Starting imputation round 40/110, elapsed time 31.220\n",
      "[MICE] Starting imputation round 41/110, elapsed time 31.920\n",
      "[MICE] Starting imputation round 42/110, elapsed time 32.608\n",
      "[MICE] Starting imputation round 43/110, elapsed time 33.293\n",
      "[MICE] Starting imputation round 44/110, elapsed time 33.979\n",
      "[MICE] Starting imputation round 45/110, elapsed time 34.669\n",
      "[MICE] Starting imputation round 46/110, elapsed time 35.349\n",
      "[MICE] Starting imputation round 47/110, elapsed time 36.046\n",
      "[MICE] Starting imputation round 48/110, elapsed time 36.732\n",
      "[MICE] Starting imputation round 49/110, elapsed time 37.418\n",
      "[MICE] Starting imputation round 50/110, elapsed time 38.107\n",
      "[MICE] Starting imputation round 51/110, elapsed time 38.829\n",
      "[MICE] Starting imputation round 52/110, elapsed time 39.517\n",
      "[MICE] Starting imputation round 53/110, elapsed time 40.206\n",
      "[MICE] Starting imputation round 54/110, elapsed time 40.900\n",
      "[MICE] Starting imputation round 55/110, elapsed time 41.588\n",
      "[MICE] Starting imputation round 56/110, elapsed time 42.284\n",
      "[MICE] Starting imputation round 57/110, elapsed time 43.010\n",
      "[MICE] Starting imputation round 58/110, elapsed time 43.745\n",
      "[MICE] Starting imputation round 59/110, elapsed time 44.442\n",
      "[MICE] Starting imputation round 60/110, elapsed time 45.172\n",
      "[MICE] Starting imputation round 61/110, elapsed time 45.861\n",
      "[MICE] Starting imputation round 62/110, elapsed time 46.548\n",
      "[MICE] Starting imputation round 63/110, elapsed time 47.230\n",
      "[MICE] Starting imputation round 64/110, elapsed time 47.929\n",
      "[MICE] Starting imputation round 65/110, elapsed time 48.641\n",
      "[MICE] Starting imputation round 66/110, elapsed time 49.449\n",
      "[MICE] Starting imputation round 67/110, elapsed time 50.165\n",
      "[MICE] Starting imputation round 68/110, elapsed time 50.856\n",
      "[MICE] Starting imputation round 69/110, elapsed time 51.539\n",
      "[MICE] Starting imputation round 70/110, elapsed time 52.230\n",
      "[MICE] Starting imputation round 71/110, elapsed time 52.914\n",
      "[MICE] Starting imputation round 72/110, elapsed time 53.600\n",
      "[MICE] Starting imputation round 73/110, elapsed time 54.358\n",
      "[MICE] Starting imputation round 74/110, elapsed time 55.135\n",
      "[MICE] Starting imputation round 75/110, elapsed time 56.029\n",
      "[MICE] Starting imputation round 76/110, elapsed time 56.867\n",
      "[MICE] Starting imputation round 77/110, elapsed time 57.876\n",
      "[MICE] Starting imputation round 78/110, elapsed time 59.124\n",
      "[MICE] Starting imputation round 79/110, elapsed time 60.486\n",
      "[MICE] Starting imputation round 80/110, elapsed time 62.105\n",
      "[MICE] Starting imputation round 81/110, elapsed time 63.170\n",
      "[MICE] Starting imputation round 82/110, elapsed time 63.949\n",
      "[MICE] Starting imputation round 83/110, elapsed time 64.777\n",
      "[MICE] Starting imputation round 84/110, elapsed time 65.770\n",
      "[MICE] Starting imputation round 85/110, elapsed time 66.680\n",
      "[MICE] Starting imputation round 86/110, elapsed time 67.461\n",
      "[MICE] Starting imputation round 87/110, elapsed time 68.285\n",
      "[MICE] Starting imputation round 88/110, elapsed time 69.104\n",
      "[MICE] Starting imputation round 89/110, elapsed time 69.889\n",
      "[MICE] Starting imputation round 90/110, elapsed time 70.869\n",
      "[MICE] Starting imputation round 91/110, elapsed time 71.709\n",
      "[MICE] Starting imputation round 92/110, elapsed time 72.581\n",
      "[MICE] Starting imputation round 93/110, elapsed time 73.437\n",
      "[MICE] Starting imputation round 94/110, elapsed time 74.265\n",
      "[MICE] Starting imputation round 95/110, elapsed time 75.067\n",
      "[MICE] Starting imputation round 96/110, elapsed time 75.844\n",
      "[MICE] Starting imputation round 97/110, elapsed time 76.645\n",
      "[MICE] Starting imputation round 98/110, elapsed time 77.520\n",
      "[MICE] Starting imputation round 99/110, elapsed time 78.404\n",
      "[MICE] Starting imputation round 100/110, elapsed time 79.498\n",
      "[MICE] Starting imputation round 101/110, elapsed time 80.400\n",
      "[MICE] Starting imputation round 102/110, elapsed time 81.185\n",
      "[MICE] Starting imputation round 103/110, elapsed time 81.949\n",
      "[MICE] Starting imputation round 104/110, elapsed time 82.768\n",
      "[MICE] Starting imputation round 105/110, elapsed time 83.510\n",
      "[MICE] Starting imputation round 106/110, elapsed time 84.229\n",
      "[MICE] Starting imputation round 107/110, elapsed time 85.166\n",
      "[MICE] Starting imputation round 108/110, elapsed time 85.991\n",
      "[MICE] Starting imputation round 109/110, elapsed time 86.956\n",
      "[MICE] Starting imputation round 110/110, elapsed time 87.901\n"
     ]
    }
   ],
   "source": [
    "X = fancyimpute.MICE().complete(df);"
   ]
  },
  {
   "cell_type": "markdown",
   "metadata": {},
   "source": [
    "First convert it back to a DataFrame.  "
   ]
  },
  {
   "cell_type": "code",
   "execution_count": 47,
   "metadata": {},
   "outputs": [
    {
     "data": {
      "text/html": [
       "<div>\n",
       "<style scoped>\n",
       "    .dataframe tbody tr th:only-of-type {\n",
       "        vertical-align: middle;\n",
       "    }\n",
       "\n",
       "    .dataframe tbody tr th {\n",
       "        vertical-align: top;\n",
       "    }\n",
       "\n",
       "    .dataframe thead th {\n",
       "        text-align: right;\n",
       "    }\n",
       "</style>\n",
       "<table border=\"1\" class=\"dataframe\">\n",
       "  <thead>\n",
       "    <tr style=\"text-align: right;\">\n",
       "      <th></th>\n",
       "      <th>ext_source_3</th>\n",
       "      <th>ext_source_2</th>\n",
       "      <th>ext_source_1</th>\n",
       "      <th>days_birth</th>\n",
       "      <th>region_rating_client_w_city</th>\n",
       "      <th>days_last_phone_change</th>\n",
       "      <th>days_id_publish</th>\n",
       "      <th>reg_city_not_work_city</th>\n",
       "      <th>flag_emp_phone</th>\n",
       "      <th>reg_city_not_live_city</th>\n",
       "      <th>...</th>\n",
       "      <th>name_education_type__Incomplete higher</th>\n",
       "      <th>name_education_type__Lower secondary</th>\n",
       "      <th>name_education_type__Secondary / secondary special</th>\n",
       "      <th>name_income_type__Commercial associate</th>\n",
       "      <th>name_income_type__Maternity leave</th>\n",
       "      <th>name_income_type__Pensioner</th>\n",
       "      <th>name_income_type__State servant</th>\n",
       "      <th>name_income_type__Student</th>\n",
       "      <th>name_income_type__Unemployed</th>\n",
       "      <th>name_income_type__Working</th>\n",
       "    </tr>\n",
       "  </thead>\n",
       "  <tbody>\n",
       "    <tr>\n",
       "      <th>204448</th>\n",
       "      <td>0.719491</td>\n",
       "      <td>0.500204</td>\n",
       "      <td>0.354311</td>\n",
       "      <td>-10671.0</td>\n",
       "      <td>2.0</td>\n",
       "      <td>0.0</td>\n",
       "      <td>-3304.0</td>\n",
       "      <td>0.0</td>\n",
       "      <td>1.0</td>\n",
       "      <td>0.0</td>\n",
       "      <td>...</td>\n",
       "      <td>0.0</td>\n",
       "      <td>0.0</td>\n",
       "      <td>0.0</td>\n",
       "      <td>0.0</td>\n",
       "      <td>0.0</td>\n",
       "      <td>0.0</td>\n",
       "      <td>0.0</td>\n",
       "      <td>0.0</td>\n",
       "      <td>0.0</td>\n",
       "      <td>1.0</td>\n",
       "    </tr>\n",
       "  </tbody>\n",
       "</table>\n",
       "<p>1 rows × 24 columns</p>\n",
       "</div>"
      ],
      "text/plain": [
       "        ext_source_3  ext_source_2  ext_source_1  days_birth  \\\n",
       "204448      0.719491      0.500204      0.354311    -10671.0   \n",
       "\n",
       "        region_rating_client_w_city  days_last_phone_change  days_id_publish  \\\n",
       "204448                          2.0                     0.0          -3304.0   \n",
       "\n",
       "        reg_city_not_work_city  flag_emp_phone  reg_city_not_live_city  \\\n",
       "204448                     0.0             1.0                     0.0   \n",
       "\n",
       "                  ...              name_education_type__Incomplete higher  \\\n",
       "204448            ...                                                 0.0   \n",
       "\n",
       "        name_education_type__Lower secondary  \\\n",
       "204448                                   0.0   \n",
       "\n",
       "        name_education_type__Secondary / secondary special  \\\n",
       "204448                                                0.0    \n",
       "\n",
       "        name_income_type__Commercial associate  \\\n",
       "204448                                     0.0   \n",
       "\n",
       "        name_income_type__Maternity leave  name_income_type__Pensioner  \\\n",
       "204448                                0.0                          0.0   \n",
       "\n",
       "        name_income_type__State servant  name_income_type__Student  \\\n",
       "204448                              0.0                        0.0   \n",
       "\n",
       "        name_income_type__Unemployed  name_income_type__Working  \n",
       "204448                           0.0                        1.0  \n",
       "\n",
       "[1 rows x 24 columns]"
      ]
     },
     "execution_count": 47,
     "metadata": {},
     "output_type": "execute_result"
    }
   ],
   "source": [
    "df_mice = pd.DataFrame(X, columns=df.columns)\n",
    "df_mice.sample()"
   ]
  },
  {
   "cell_type": "code",
   "execution_count": 63,
   "metadata": {},
   "outputs": [],
   "source": [
    "df_mice['target'] = df_mice['target'].astype(int)"
   ]
  },
  {
   "cell_type": "markdown",
   "metadata": {},
   "source": [
    "Let's just check that there is no missing value.  "
   ]
  },
  {
   "cell_type": "code",
   "execution_count": 49,
   "metadata": {},
   "outputs": [
    {
     "data": {
      "text/plain": [
       "0"
      ]
     },
     "execution_count": 49,
     "metadata": {},
     "output_type": "execute_result"
    }
   ],
   "source": [
    "has_null = [col for col in df_mice.columns \n",
    "            if sum(df_mice[col].isnull())]\n",
    "\n",
    "len(has_null)"
   ]
  },
  {
   "cell_type": "markdown",
   "metadata": {},
   "source": [
    "Modeling time!!  "
   ]
  },
  {
   "cell_type": "markdown",
   "metadata": {},
   "source": [
    "### Encoding categorical columns (OneHotEncoding)"
   ]
  },
  {
   "cell_type": "markdown",
   "metadata": {},
   "source": [
    "Done!  "
   ]
  },
  {
   "cell_type": "markdown",
   "metadata": {},
   "source": [
    "### Subsampling"
   ]
  },
  {
   "cell_type": "code",
   "execution_count": 64,
   "metadata": {},
   "outputs": [
    {
     "data": {
      "text/plain": [
       "0    282685\n",
       "1     24825\n",
       "Name: target, dtype: int64"
      ]
     },
     "execution_count": 64,
     "metadata": {},
     "output_type": "execute_result"
    }
   ],
   "source": [
    "df_mice['target'].value_counts()"
   ]
  },
  {
   "cell_type": "code",
   "execution_count": 65,
   "metadata": {},
   "outputs": [
    {
     "data": {
      "text/plain": [
       "24825"
      ]
     },
     "execution_count": 65,
     "metadata": {},
     "output_type": "execute_result"
    }
   ],
   "source": [
    "ones = (df_mice['target'] == 1).sum()\n",
    "ones"
   ]
  },
  {
   "cell_type": "code",
   "execution_count": 66,
   "metadata": {},
   "outputs": [
    {
     "data": {
      "text/html": [
       "<div>\n",
       "<style scoped>\n",
       "    .dataframe tbody tr th:only-of-type {\n",
       "        vertical-align: middle;\n",
       "    }\n",
       "\n",
       "    .dataframe tbody tr th {\n",
       "        vertical-align: top;\n",
       "    }\n",
       "\n",
       "    .dataframe thead th {\n",
       "        text-align: right;\n",
       "    }\n",
       "</style>\n",
       "<table border=\"1\" class=\"dataframe\">\n",
       "  <thead>\n",
       "    <tr style=\"text-align: right;\">\n",
       "      <th></th>\n",
       "      <th>ext_source_3</th>\n",
       "      <th>ext_source_2</th>\n",
       "      <th>ext_source_1</th>\n",
       "      <th>days_birth</th>\n",
       "      <th>region_rating_client_w_city</th>\n",
       "      <th>days_last_phone_change</th>\n",
       "      <th>days_id_publish</th>\n",
       "      <th>reg_city_not_work_city</th>\n",
       "      <th>flag_emp_phone</th>\n",
       "      <th>reg_city_not_live_city</th>\n",
       "      <th>...</th>\n",
       "      <th>name_education_type__Incomplete higher</th>\n",
       "      <th>name_education_type__Lower secondary</th>\n",
       "      <th>name_education_type__Secondary / secondary special</th>\n",
       "      <th>name_income_type__Commercial associate</th>\n",
       "      <th>name_income_type__Maternity leave</th>\n",
       "      <th>name_income_type__Pensioner</th>\n",
       "      <th>name_income_type__State servant</th>\n",
       "      <th>name_income_type__Student</th>\n",
       "      <th>name_income_type__Unemployed</th>\n",
       "      <th>name_income_type__Working</th>\n",
       "    </tr>\n",
       "  </thead>\n",
       "  <tbody>\n",
       "    <tr>\n",
       "      <th>189292</th>\n",
       "      <td>0.461482</td>\n",
       "      <td>0.719119</td>\n",
       "      <td>0.522604</td>\n",
       "      <td>-15490.0</td>\n",
       "      <td>2.0</td>\n",
       "      <td>-985.0</td>\n",
       "      <td>-4361.0</td>\n",
       "      <td>0.0</td>\n",
       "      <td>1.0</td>\n",
       "      <td>0.0</td>\n",
       "      <td>...</td>\n",
       "      <td>0.0</td>\n",
       "      <td>0.0</td>\n",
       "      <td>0.0</td>\n",
       "      <td>0.0</td>\n",
       "      <td>0.0</td>\n",
       "      <td>0.0</td>\n",
       "      <td>0.0</td>\n",
       "      <td>0.0</td>\n",
       "      <td>0.0</td>\n",
       "      <td>1.0</td>\n",
       "    </tr>\n",
       "  </tbody>\n",
       "</table>\n",
       "<p>1 rows × 24 columns</p>\n",
       "</div>"
      ],
      "text/plain": [
       "        ext_source_3  ext_source_2  ext_source_1  days_birth  \\\n",
       "189292      0.461482      0.719119      0.522604    -15490.0   \n",
       "\n",
       "        region_rating_client_w_city  days_last_phone_change  days_id_publish  \\\n",
       "189292                          2.0                  -985.0          -4361.0   \n",
       "\n",
       "        reg_city_not_work_city  flag_emp_phone  reg_city_not_live_city  \\\n",
       "189292                     0.0             1.0                     0.0   \n",
       "\n",
       "                  ...              name_education_type__Incomplete higher  \\\n",
       "189292            ...                                                 0.0   \n",
       "\n",
       "        name_education_type__Lower secondary  \\\n",
       "189292                                   0.0   \n",
       "\n",
       "        name_education_type__Secondary / secondary special  \\\n",
       "189292                                                0.0    \n",
       "\n",
       "        name_income_type__Commercial associate  \\\n",
       "189292                                     0.0   \n",
       "\n",
       "        name_income_type__Maternity leave  name_income_type__Pensioner  \\\n",
       "189292                                0.0                          0.0   \n",
       "\n",
       "        name_income_type__State servant  name_income_type__Student  \\\n",
       "189292                              0.0                        0.0   \n",
       "\n",
       "        name_income_type__Unemployed  name_income_type__Working  \n",
       "189292                           0.0                        1.0  \n",
       "\n",
       "[1 rows x 24 columns]"
      ]
     },
     "execution_count": 66,
     "metadata": {},
     "output_type": "execute_result"
    }
   ],
   "source": [
    "df_mice_0 = df_mice[df_mice['target'] == 0].sample(ones)\n",
    "df_mice_0.sample()"
   ]
  },
  {
   "cell_type": "code",
   "execution_count": 67,
   "metadata": {},
   "outputs": [
    {
     "data": {
      "text/plain": [
       "(24825, 24)"
      ]
     },
     "execution_count": 67,
     "metadata": {},
     "output_type": "execute_result"
    }
   ],
   "source": [
    "df_mice_0.shape"
   ]
  },
  {
   "cell_type": "code",
   "execution_count": 69,
   "metadata": {},
   "outputs": [
    {
     "data": {
      "text/html": [
       "<div>\n",
       "<style scoped>\n",
       "    .dataframe tbody tr th:only-of-type {\n",
       "        vertical-align: middle;\n",
       "    }\n",
       "\n",
       "    .dataframe tbody tr th {\n",
       "        vertical-align: top;\n",
       "    }\n",
       "\n",
       "    .dataframe thead th {\n",
       "        text-align: right;\n",
       "    }\n",
       "</style>\n",
       "<table border=\"1\" class=\"dataframe\">\n",
       "  <thead>\n",
       "    <tr style=\"text-align: right;\">\n",
       "      <th></th>\n",
       "      <th>ext_source_3</th>\n",
       "      <th>ext_source_2</th>\n",
       "      <th>ext_source_1</th>\n",
       "      <th>days_birth</th>\n",
       "      <th>region_rating_client_w_city</th>\n",
       "      <th>days_last_phone_change</th>\n",
       "      <th>days_id_publish</th>\n",
       "      <th>reg_city_not_work_city</th>\n",
       "      <th>flag_emp_phone</th>\n",
       "      <th>reg_city_not_live_city</th>\n",
       "      <th>...</th>\n",
       "      <th>name_education_type__Incomplete higher</th>\n",
       "      <th>name_education_type__Lower secondary</th>\n",
       "      <th>name_education_type__Secondary / secondary special</th>\n",
       "      <th>name_income_type__Commercial associate</th>\n",
       "      <th>name_income_type__Maternity leave</th>\n",
       "      <th>name_income_type__Pensioner</th>\n",
       "      <th>name_income_type__State servant</th>\n",
       "      <th>name_income_type__Student</th>\n",
       "      <th>name_income_type__Unemployed</th>\n",
       "      <th>name_income_type__Working</th>\n",
       "    </tr>\n",
       "  </thead>\n",
       "  <tbody>\n",
       "    <tr>\n",
       "      <th>45296</th>\n",
       "      <td>0.567379</td>\n",
       "      <td>0.704292</td>\n",
       "      <td>0.678423</td>\n",
       "      <td>-16874.0</td>\n",
       "      <td>1.0</td>\n",
       "      <td>-9.0</td>\n",
       "      <td>-399.0</td>\n",
       "      <td>1.0</td>\n",
       "      <td>1.0</td>\n",
       "      <td>0.0</td>\n",
       "      <td>...</td>\n",
       "      <td>0.0</td>\n",
       "      <td>0.0</td>\n",
       "      <td>0.0</td>\n",
       "      <td>1.0</td>\n",
       "      <td>0.0</td>\n",
       "      <td>0.0</td>\n",
       "      <td>0.0</td>\n",
       "      <td>0.0</td>\n",
       "      <td>0.0</td>\n",
       "      <td>0.0</td>\n",
       "    </tr>\n",
       "  </tbody>\n",
       "</table>\n",
       "<p>1 rows × 24 columns</p>\n",
       "</div>"
      ],
      "text/plain": [
       "       ext_source_3  ext_source_2  ext_source_1  days_birth  \\\n",
       "45296      0.567379      0.704292      0.678423    -16874.0   \n",
       "\n",
       "       region_rating_client_w_city  days_last_phone_change  days_id_publish  \\\n",
       "45296                          1.0                    -9.0           -399.0   \n",
       "\n",
       "       reg_city_not_work_city  flag_emp_phone  reg_city_not_live_city  \\\n",
       "45296                     1.0             1.0                     0.0   \n",
       "\n",
       "                 ...              name_education_type__Incomplete higher  \\\n",
       "45296            ...                                                 0.0   \n",
       "\n",
       "       name_education_type__Lower secondary  \\\n",
       "45296                                   0.0   \n",
       "\n",
       "       name_education_type__Secondary / secondary special  \\\n",
       "45296                                                0.0    \n",
       "\n",
       "       name_income_type__Commercial associate  \\\n",
       "45296                                     1.0   \n",
       "\n",
       "       name_income_type__Maternity leave  name_income_type__Pensioner  \\\n",
       "45296                                0.0                          0.0   \n",
       "\n",
       "       name_income_type__State servant  name_income_type__Student  \\\n",
       "45296                              0.0                        0.0   \n",
       "\n",
       "       name_income_type__Unemployed  name_income_type__Working  \n",
       "45296                           0.0                        0.0  \n",
       "\n",
       "[1 rows x 24 columns]"
      ]
     },
     "execution_count": 69,
     "metadata": {},
     "output_type": "execute_result"
    }
   ],
   "source": [
    "df_sub = df_mice_0.append(df_mice[df_mice['target'] == 1])\n",
    "df_sub = pd.DataFrame(df_sub)\n",
    "df_sub.sample()"
   ]
  },
  {
   "cell_type": "code",
   "execution_count": 70,
   "metadata": {},
   "outputs": [
    {
     "data": {
      "text/plain": [
       "(49650, 24)"
      ]
     },
     "execution_count": 70,
     "metadata": {},
     "output_type": "execute_result"
    }
   ],
   "source": [
    "df_sub.shape"
   ]
  },
  {
   "cell_type": "markdown",
   "metadata": {},
   "source": [
    "### Training set"
   ]
  },
  {
   "cell_type": "code",
   "execution_count": 79,
   "metadata": {},
   "outputs": [
    {
     "data": {
      "text/plain": [
       "(49650,)"
      ]
     },
     "execution_count": 79,
     "metadata": {},
     "output_type": "execute_result"
    }
   ],
   "source": [
    "y = df_sub['target']\n",
    "y.shape"
   ]
  },
  {
   "cell_type": "code",
   "execution_count": 80,
   "metadata": {},
   "outputs": [
    {
     "data": {
      "text/plain": [
       "(49650, 23)"
      ]
     },
     "execution_count": 80,
     "metadata": {},
     "output_type": "execute_result"
    }
   ],
   "source": [
    "X = df_sub.drop('target', axis=1)\n",
    "X.shape"
   ]
  },
  {
   "cell_type": "code",
   "execution_count": 108,
   "metadata": {},
   "outputs": [],
   "source": [
    "Xtrain, Xtest, ytrain, ytest = train_test_split(X, y)"
   ]
  },
  {
   "cell_type": "markdown",
   "metadata": {},
   "source": [
    "## Modeling and evaluation  "
   ]
  },
  {
   "cell_type": "markdown",
   "metadata": {},
   "source": [
    "### Naive Bayes"
   ]
  },
  {
   "cell_type": "code",
   "execution_count": 110,
   "metadata": {},
   "outputs": [],
   "source": [
    "from sklearn.naive_bayes import GaussianNB\n",
    "gnb = GaussianNB()\n",
    "gnb.fit(Xtrain, ytrain)\n",
    "ypred = gnb.predict(Xtest)"
   ]
  },
  {
   "cell_type": "code",
   "execution_count": 111,
   "metadata": {},
   "outputs": [
    {
     "data": {
      "text/plain": [
       "0.6295818899540804"
      ]
     },
     "execution_count": 111,
     "metadata": {},
     "output_type": "execute_result"
    }
   ],
   "source": [
    "accuracy_score(ytest, ypred)"
   ]
  },
  {
   "cell_type": "code",
   "execution_count": 112,
   "metadata": {},
   "outputs": [
    {
     "data": {
      "text/plain": [
       "array([[3572, 2614],\n",
       "       [1984, 4243]])"
      ]
     },
     "execution_count": 112,
     "metadata": {},
     "output_type": "execute_result"
    }
   ],
   "source": [
    "con_mat = confusion_matrix(ytest, ypred)\n",
    "con_mat"
   ]
  },
  {
   "cell_type": "code",
   "execution_count": 113,
   "metadata": {},
   "outputs": [],
   "source": [
    "import matplotlib.pyplot as plt\n",
    "%matplotlib inline\n",
    "import seaborn as sns\n",
    "sns.set()"
   ]
  },
  {
   "cell_type": "code",
   "execution_count": 114,
   "metadata": {},
   "outputs": [
    {
     "data": {
      "image/png": "[encoded data removed]",
      "text/plain": [
       "<matplotlib.figure.Figure at 0x11cf8da90>"
      ]
     },
     "metadata": {},
     "output_type": "display_data"
    }
   ],
   "source": [
    "sns.heatmap(con_mat.T, \n",
    "            square=True, \n",
    "            annot=True, \n",
    "            fmt='d', \n",
    "            cbar=True,\n",
    "            xticklabels=[0, 1], \n",
    "            yticklabels=[0, 1])\n",
    "\n",
    "plt.xlabel('True class')\n",
    "plt.ylabel('Predicted class');"
   ]
  },
  {
   "cell_type": "code",
   "execution_count": 115,
   "metadata": {},
   "outputs": [
    {
     "data": {
      "text/plain": [
       "0.6294102095257914"
      ]
     },
     "execution_count": 115,
     "metadata": {},
     "output_type": "execute_result"
    }
   ],
   "source": [
    "from sklearn.metrics import roc_auc_score\n",
    "roc_auc_score(ytest, ypred)"
   ]
  },
  {
   "cell_type": "markdown",
   "metadata": {},
   "source": [
    "### Logistic regression"
   ]
  },
  {
   "cell_type": "code",
   "execution_count": 116,
   "metadata": {},
   "outputs": [],
   "source": [
    "lr.fit(Xtrain, ytrain)\n",
    "ypred = lr.predict(Xtest)"
   ]
  },
  {
   "cell_type": "code",
   "execution_count": 117,
   "metadata": {},
   "outputs": [
    {
     "data": {
      "text/plain": [
       "0.6735680335132522"
      ]
     },
     "execution_count": 117,
     "metadata": {},
     "output_type": "execute_result"
    }
   ],
   "source": [
    "accuracy_score(ytest, ypred)"
   ]
  },
  {
   "cell_type": "code",
   "execution_count": 118,
   "metadata": {},
   "outputs": [
    {
     "data": {
      "text/plain": [
       "array([[4209, 1977],\n",
       "       [2075, 4152]])"
      ]
     },
     "execution_count": 118,
     "metadata": {},
     "output_type": "execute_result"
    }
   ],
   "source": [
    "con_mat = confusion_matrix(ytest, ypred)\n",
    "con_mat"
   ]
  },
  {
   "cell_type": "code",
   "execution_count": 119,
   "metadata": {},
   "outputs": [
    {
     "data": {
      "image/png": "[encoded data removed]",
      "text/plain": [
       "<matplotlib.figure.Figure at 0x11d060630>"
      ]
     },
     "metadata": {},
     "output_type": "display_data"
    }
   ],
   "source": [
    "sns.heatmap(con_mat.T, \n",
    "            square=True, \n",
    "            annot=True, \n",
    "            fmt='d', \n",
    "            cbar=False,\n",
    "            xticklabels=[0, 1], \n",
    "            yticklabels=[0, 1])\n",
    "\n",
    "plt.xlabel('True class')\n",
    "plt.ylabel('Predicted class');"
   ]
  },
  {
   "cell_type": "code",
   "execution_count": 120,
   "metadata": {},
   "outputs": [
    {
     "data": {
      "text/plain": [
       "0.6735905494002604"
      ]
     },
     "execution_count": 120,
     "metadata": {},
     "output_type": "execute_result"
    }
   ],
   "source": [
    "roc_auc_score(ytest, ypred)"
   ]
  },
  {
   "cell_type": "markdown",
   "metadata": {},
   "source": [
    "### Random Forest"
   ]
  },
  {
   "cell_type": "code",
   "execution_count": 121,
   "metadata": {},
   "outputs": [],
   "source": [
    "from sklearn.ensemble import RandomForestClassifier\n",
    "rf = RandomForestClassifier()"
   ]
  },
  {
   "cell_type": "code",
   "execution_count": 122,
   "metadata": {},
   "outputs": [],
   "source": [
    "rf.fit(Xtrain, ytrain)\n",
    "ypred = rf.predict(Xtest)"
   ]
  },
  {
   "cell_type": "code",
   "execution_count": 123,
   "metadata": {},
   "outputs": [
    {
     "data": {
      "text/plain": [
       "0.632965439458632"
      ]
     },
     "execution_count": 123,
     "metadata": {},
     "output_type": "execute_result"
    }
   ],
   "source": [
    "accuracy_score(ytest, ypred)"
   ]
  },
  {
   "cell_type": "code",
   "execution_count": 124,
   "metadata": {},
   "outputs": [
    {
     "data": {
      "text/plain": [
       "array([[4371, 1815],\n",
       "       [2741, 3486]])"
      ]
     },
     "execution_count": 124,
     "metadata": {},
     "output_type": "execute_result"
    }
   ],
   "source": [
    "con_mat = confusion_matrix(ytest, ypred)\n",
    "con_mat"
   ]
  },
  {
   "cell_type": "code",
   "execution_count": 125,
   "metadata": {},
   "outputs": [
    {
     "data": {
      "image/png": "[encoded data removed]",
      "text/plain": [
       "<matplotlib.figure.Figure at 0x104c4eb70>"
      ]
     },
     "metadata": {},
     "output_type": "display_data"
    }
   ],
   "source": [
    "sns.heatmap(con_mat.T, \n",
    "            square=True, \n",
    "            annot=True, \n",
    "            fmt='d', \n",
    "            cbar=True,\n",
    "            xticklabels=[0, 1], \n",
    "            yticklabels=[0, 1])\n",
    "\n",
    "plt.xlabel('True class')\n",
    "plt.ylabel('Predicted class');"
   ]
  },
  {
   "cell_type": "code",
   "execution_count": 126,
   "metadata": {},
   "outputs": [
    {
     "data": {
      "text/plain": [
       "0.6332078382102782"
      ]
     },
     "execution_count": 126,
     "metadata": {},
     "output_type": "execute_result"
    }
   ],
   "source": [
    "roc_auc_score(ytest, ypred)"
   ]
  },
  {
   "cell_type": "markdown",
   "metadata": {},
   "source": [
    "### adaboost"
   ]
  },
  {
   "cell_type": "code",
   "execution_count": 127,
   "metadata": {},
   "outputs": [],
   "source": [
    "from sklearn.ensemble import AdaBoostClassifier\n",
    "abc = AdaBoostClassifier(n_estimators=100)\n",
    "abc.fit(Xtrain, ytrain)\n",
    "ypred = abc.predict(Xtest)"
   ]
  },
  {
   "cell_type": "code",
   "execution_count": 128,
   "metadata": {},
   "outputs": [
    {
     "data": {
      "text/plain": [
       "0.6709900910335939"
      ]
     },
     "execution_count": 128,
     "metadata": {},
     "output_type": "execute_result"
    }
   ],
   "source": [
    "accuracy_score(ytest, ypred)"
   ]
  },
  {
   "cell_type": "code",
   "execution_count": 129,
   "metadata": {},
   "outputs": [
    {
     "data": {
      "image/png": "[encoded data removed]",
      "text/plain": [
       "<matplotlib.figure.Figure at 0x11e3f88d0>"
      ]
     },
     "metadata": {},
     "output_type": "display_data"
    }
   ],
   "source": [
    "con_mat = confusion_matrix(ytest, ypred)\n",
    "sns.heatmap(con_mat.T, \n",
    "            square=True, \n",
    "            annot=True, \n",
    "            fmt='d', \n",
    "            cbar=True,\n",
    "            xticklabels=[0, 1], \n",
    "            yticklabels=[0, 1])\n",
    "\n",
    "plt.xlabel('True class')\n",
    "plt.ylabel('Predicted class');"
   ]
  },
  {
   "cell_type": "code",
   "execution_count": 131,
   "metadata": {},
   "outputs": [
    {
     "name": "stdout",
     "output_type": "stream",
     "text": [
      "             precision    recall  f1-score   support\n",
      "\n",
      "          0       0.67      0.68      0.67      6186\n",
      "          1       0.68      0.66      0.67      6227\n",
      "\n",
      "avg / total       0.67      0.67      0.67     12413\n",
      "\n"
     ]
    }
   ],
   "source": [
    "from sklearn.metrics import classification_report\n",
    "print(classification_report(ytest, ypred))"
   ]
  },
  {
   "cell_type": "code",
   "execution_count": 132,
   "metadata": {},
   "outputs": [
    {
     "data": {
      "text/plain": [
       "0.6710173684876478"
      ]
     },
     "execution_count": 132,
     "metadata": {},
     "output_type": "execute_result"
    }
   ],
   "source": [
    "roc_auc_score(ytest, ypred)"
   ]
  },
  {
   "cell_type": "markdown",
   "metadata": {},
   "source": [
    "#### GBT "
   ]
  },
  {
   "cell_type": "code",
   "execution_count": 155,
   "metadata": {},
   "outputs": [],
   "source": [
    "from sklearn.ensemble import GradientBoostingClassifier\n",
    "gbc = GradientBoostingClassifier(n_estimators=1000)\n",
    "gbc.fit(Xtrain, ytrain)\n",
    "ypred = gbc.predict(Xtest)"
   ]
  },
  {
   "cell_type": "code",
   "execution_count": 156,
   "metadata": {},
   "outputs": [
    {
     "data": {
      "text/plain": [
       "0.6660758881817449"
      ]
     },
     "execution_count": 156,
     "metadata": {},
     "output_type": "execute_result"
    }
   ],
   "source": [
    "accuracy_score(ytest, ypred)"
   ]
  },
  {
   "cell_type": "code",
   "execution_count": 157,
   "metadata": {},
   "outputs": [
    {
     "data": {
      "image/png": "[encoded data removed]",
      "text/plain": [
       "<matplotlib.figure.Figure at 0x1206d0a90>"
      ]
     },
     "metadata": {},
     "output_type": "display_data"
    }
   ],
   "source": [
    "con_mat = confusion_matrix(ytest, ypred)\n",
    "sns.heatmap(con_mat.T, \n",
    "            square=True, \n",
    "            annot=True, \n",
    "            fmt='d', \n",
    "            cbar=True,\n",
    "            xticklabels=[0, 1], \n",
    "            yticklabels=[0, 1])\n",
    "\n",
    "plt.xlabel('True class')\n",
    "plt.ylabel('Predicted class');"
   ]
  },
  {
   "cell_type": "code",
   "execution_count": 158,
   "metadata": {},
   "outputs": [
    {
     "name": "stdout",
     "output_type": "stream",
     "text": [
      "             precision    recall  f1-score   support\n",
      "\n",
      "          0       0.66      0.67      0.67      6186\n",
      "          1       0.67      0.66      0.66      6227\n",
      "\n",
      "avg / total       0.67      0.67      0.67     12413\n",
      "\n"
     ]
    }
   ],
   "source": [
    "print(classification_report(ytest, ypred))"
   ]
  },
  {
   "cell_type": "code",
   "execution_count": 159,
   "metadata": {},
   "outputs": [
    {
     "name": "stdout",
     "output_type": "stream",
     "text": [
      "0.6660996528005473\n"
     ]
    }
   ],
   "source": [
    "print(roc_auc_score(ytest, ypred))"
   ]
  },
  {
   "cell_type": "code",
   "execution_count": 140,
   "metadata": {},
   "outputs": [
    {
     "data": {
      "text/html": [
       "<div>\n",
       "<style scoped>\n",
       "    .dataframe tbody tr th:only-of-type {\n",
       "        vertical-align: middle;\n",
       "    }\n",
       "\n",
       "    .dataframe tbody tr th {\n",
       "        vertical-align: top;\n",
       "    }\n",
       "\n",
       "    .dataframe thead th {\n",
       "        text-align: right;\n",
       "    }\n",
       "</style>\n",
       "<table border=\"1\" class=\"dataframe\">\n",
       "  <thead>\n",
       "    <tr style=\"text-align: right;\">\n",
       "      <th></th>\n",
       "      <th>importance</th>\n",
       "      <th>variable</th>\n",
       "    </tr>\n",
       "  </thead>\n",
       "  <tbody>\n",
       "    <tr>\n",
       "      <th>0</th>\n",
       "      <td>0.196861</td>\n",
       "      <td>ext_source_3</td>\n",
       "    </tr>\n",
       "    <tr>\n",
       "      <th>2</th>\n",
       "      <td>0.185916</td>\n",
       "      <td>ext_source_1</td>\n",
       "    </tr>\n",
       "    <tr>\n",
       "      <th>1</th>\n",
       "      <td>0.156244</td>\n",
       "      <td>ext_source_2</td>\n",
       "    </tr>\n",
       "    <tr>\n",
       "      <th>3</th>\n",
       "      <td>0.144839</td>\n",
       "      <td>days_birth</td>\n",
       "    </tr>\n",
       "    <tr>\n",
       "      <th>6</th>\n",
       "      <td>0.068542</td>\n",
       "      <td>days_id_publish</td>\n",
       "    </tr>\n",
       "  </tbody>\n",
       "</table>\n",
       "</div>"
      ],
      "text/plain": [
       "   importance         variable\n",
       "0    0.196861     ext_source_3\n",
       "2    0.185916     ext_source_1\n",
       "1    0.156244     ext_source_2\n",
       "3    0.144839       days_birth\n",
       "6    0.068542  days_id_publish"
      ]
     },
     "execution_count": 140,
     "metadata": {},
     "output_type": "execute_result"
    }
   ],
   "source": [
    "fi = pd.DataFrame({'variable': list(Xtrain.columns), \n",
    "                   'importance': gbc.feature_importances_})\n",
    "\n",
    "fi = fi.sort_values(by='importance', ascending=False)\n",
    "fi.head()"
   ]
  },
  {
   "cell_type": "code",
   "execution_count": 141,
   "metadata": {},
   "outputs": [
    {
     "data": {
      "image/png": "[encoded data removed]",
      "text/plain": [
       "<matplotlib.figure.Figure at 0x11c916198>"
      ]
     },
     "metadata": {},
     "output_type": "display_data"
    }
   ],
   "source": [
    "how_many = fi.shape[0]\n",
    "plt.figure(figsize=(6,8))\n",
    "plt.barh(range(how_many), fi['importance'].head(how_many))\n",
    "plt.yticks(range(how_many), fi['variable'].head(how_many), size=15)\n",
    "plt.xticks(size=12)\n",
    "plt.xlabel('Relative importance', size=16)\n",
    "plt.show()"
   ]
  },
  {
   "cell_type": "markdown",
   "metadata": {},
   "source": [
    "Keeping all the externals actually gave us a better score!  "
   ]
  },
  {
   "cell_type": "markdown",
   "metadata": {},
   "source": [
    "## Hyperparameter tuning"
   ]
  },
  {
   "cell_type": "markdown",
   "metadata": {},
   "source": [
    "#### Logistic Regression"
   ]
  },
  {
   "cell_type": "code",
   "execution_count": 150,
   "metadata": {},
   "outputs": [
    {
     "data": {
      "text/plain": [
       "GridSearchCV(cv=5, error_score='raise',\n",
       "       estimator=LogisticRegression(C=1.0, class_weight=None, dual=False, fit_intercept=True,\n",
       "          intercept_scaling=1, max_iter=100, multi_class='ovr', n_jobs=1,\n",
       "          penalty='l2', random_state=None, solver='liblinear', tol=0.0001,\n",
       "          verbose=0, warm_start=False),\n",
       "       fit_params=None, iid=True, n_jobs=1,\n",
       "       param_grid={'penalty': ['l1', 'l2'], 'C': [0.1, 1.0, 10.0, 100.0], 'fit_intercept': [False, True], 'max_iter': [50, 100, 200]},\n",
       "       pre_dispatch='2*n_jobs', refit=True, return_train_score='warn',\n",
       "       scoring='f1', verbose=0)"
      ]
     },
     "execution_count": 150,
     "metadata": {},
     "output_type": "execute_result"
    }
   ],
   "source": [
    "from sklearn.model_selection import GridSearchCV\n",
    "\n",
    "param_grid = {'penalty': ['l1', 'l2'],\n",
    "              'C': [0.10, 1.0, 10., 100.],\n",
    "              'fit_intercept': [False, True],\n",
    "              'max_iter': [50, 100, 200]}\n",
    "\n",
    "gs = GridSearchCV(estimator=LogisticRegression(),\n",
    "                 param_grid = param_grid,\n",
    "                 scoring='f1',\n",
    "                 cv=5)\n",
    "\n",
    "gs.fit(Xtrain, ytrain)"
   ]
  },
  {
   "cell_type": "markdown",
   "metadata": {},
   "source": [
    "Best parameters"
   ]
  },
  {
   "cell_type": "code",
   "execution_count": 151,
   "metadata": {},
   "outputs": [
    {
     "data": {
      "text/plain": [
       "{'C': 100.0, 'fit_intercept': True, 'max_iter': 200, 'penalty': 'l1'}"
      ]
     },
     "execution_count": 151,
     "metadata": {},
     "output_type": "execute_result"
    }
   ],
   "source": [
    "gs.best_params_"
   ]
  },
  {
   "cell_type": "markdown",
   "metadata": {},
   "source": [
    "Best estimator"
   ]
  },
  {
   "cell_type": "code",
   "execution_count": 152,
   "metadata": {},
   "outputs": [
    {
     "data": {
      "text/plain": [
       "LogisticRegression(C=100.0, class_weight=None, dual=False, fit_intercept=True,\n",
       "          intercept_scaling=1, max_iter=200, multi_class='ovr', n_jobs=1,\n",
       "          penalty='l1', random_state=None, solver='liblinear', tol=0.0001,\n",
       "          verbose=0, warm_start=False)"
      ]
     },
     "execution_count": 152,
     "metadata": {},
     "output_type": "execute_result"
    }
   ],
   "source": [
    "gs.best_estimator_"
   ]
  },
  {
   "cell_type": "markdown",
   "metadata": {},
   "source": [
    "ROC score"
   ]
  },
  {
   "cell_type": "code",
   "execution_count": 153,
   "metadata": {},
   "outputs": [
    {
     "data": {
      "text/plain": [
       "0.674638648240397"
      ]
     },
     "execution_count": 153,
     "metadata": {},
     "output_type": "execute_result"
    }
   ],
   "source": [
    "model = gs.best_estimator_\n",
    "model.fit(Xtrain, ytrain)\n",
    "ypred = model.predict(Xtest)\n",
    "roc_auc_score(ytest, ypred)"
   ]
  },
  {
   "cell_type": "markdown",
   "metadata": {},
   "source": [
    "#### GBT"
   ]
  },
  {
   "cell_type": "code",
   "execution_count": 146,
   "metadata": {},
   "outputs": [
    {
     "data": {
      "text/plain": [
       "GridSearchCV(cv=5, error_score='raise',\n",
       "       estimator=GradientBoostingClassifier(criterion='friedman_mse', init=None,\n",
       "              learning_rate=0.1, loss='deviance', max_depth=3,\n",
       "              max_features=None, max_leaf_nodes=None,\n",
       "              min_impurity_decrease=0.0, min_impurity_split=None,\n",
       "              min_samples_leaf=1, min_samples_split=2,\n",
       "              min_weight_fraction_leaf=0.0, n_estimators=100,\n",
       "              presort='auto', random_state=None, subsample=1.0, verbose=0,\n",
       "              warm_start=False),\n",
       "       fit_params=None, iid=True, n_jobs=1,\n",
       "       param_grid=[{'learning_rate': [0.1, 1.0]}, {'n_estimators': [100, 200]}, {'max_depth': [3, 5, 7]}],\n",
       "       pre_dispatch='2*n_jobs', refit=True, return_train_score='warn',\n",
       "       scoring='f1', verbose=0)"
      ]
     },
     "execution_count": 146,
     "metadata": {},
     "output_type": "execute_result"
    }
   ],
   "source": [
    "from sklearn.model_selection import GridSearchCV\n",
    "\n",
    "gbc = GradientBoostingClassifier()\n",
    "param_grid = [{'learning_rate': [0.1, 1.0]},\n",
    "              {'n_estimators': [100, 200]},\n",
    "              {'max_depth': [3, 5, 7]}]\n",
    "\n",
    "gs = GridSearchCV(gbc, \n",
    "                 param_grid,\n",
    "                 cv=5,\n",
    "                 scoring='f1')\n",
    "\n",
    "gs.fit(Xtrain, ytrain)"
   ]
  },
  {
   "cell_type": "markdown",
   "metadata": {},
   "source": [
    "Best parameters"
   ]
  },
  {
   "cell_type": "code",
   "execution_count": 147,
   "metadata": {},
   "outputs": [
    {
     "data": {
      "text/plain": [
       "{'n_estimators': 200}"
      ]
     },
     "execution_count": 147,
     "metadata": {},
     "output_type": "execute_result"
    }
   ],
   "source": [
    "gs.best_params_"
   ]
  },
  {
   "cell_type": "markdown",
   "metadata": {},
   "source": [
    "Best estimator"
   ]
  },
  {
   "cell_type": "code",
   "execution_count": 148,
   "metadata": {},
   "outputs": [
    {
     "data": {
      "text/plain": [
       "GradientBoostingClassifier(criterion='friedman_mse', init=None,\n",
       "              learning_rate=0.1, loss='deviance', max_depth=3,\n",
       "              max_features=None, max_leaf_nodes=None,\n",
       "              min_impurity_decrease=0.0, min_impurity_split=None,\n",
       "              min_samples_leaf=1, min_samples_split=2,\n",
       "              min_weight_fraction_leaf=0.0, n_estimators=200,\n",
       "              presort='auto', random_state=None, subsample=1.0, verbose=0,\n",
       "              warm_start=False)"
      ]
     },
     "execution_count": 148,
     "metadata": {},
     "output_type": "execute_result"
    }
   ],
   "source": [
    "gs.best_estimator_"
   ]
  },
  {
   "cell_type": "markdown",
   "metadata": {},
   "source": [
    "ROC score"
   ]
  },
  {
   "cell_type": "code",
   "execution_count": 149,
   "metadata": {},
   "outputs": [
    {
     "data": {
      "text/plain": [
       "0.6715815656514129"
      ]
     },
     "execution_count": 149,
     "metadata": {},
     "output_type": "execute_result"
    }
   ],
   "source": [
    "model = gs.best_estimator_\n",
    "model.fit(Xtrain, ytrain)\n",
    "ypred = model.predict(Xtest)\n",
    "roc_auc_score(ytest, ypred)"
   ]
  },
  {
   "cell_type": "code",
   "execution_count": 154,
   "metadata": {},
   "outputs": [
    {
     "data": {
      "text/plain": [
       "0.6642459381464624"
      ]
     },
     "execution_count": 154,
     "metadata": {},
     "output_type": "execute_result"
    }
   ],
   "source": [
    "model = GradientBoostingClassifier(n_estimators=1200)\n",
    "model.fit(Xtrain, ytrain)\n",
    "ypred = model.predict(Xtest)\n",
    "roc_auc_score(ytest, ypred)"
   ]
  }
 ],
 "metadata": {
  "kernelspec": {
   "display_name": "Python 3",
   "language": "python",
   "name": "python3"
  },
  "language_info": {
   "codemirror_mode": {
    "name": "ipython",
    "version": 3
   },
   "file_extension": ".py",
   "mimetype": "text/x-python",
   "name": "python",
   "nbconvert_exporter": "python",
   "pygments_lexer": "ipython3",
   "version": "3.6.4"
  }
 },
 "nbformat": 4,
 "nbformat_minor": 2
}
